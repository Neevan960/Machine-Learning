{
  "cells": [
    {
      "cell_type": "markdown",
      "source": [
        "#Uzipping the files"
      ],
      "metadata": {
        "id": "tp6klsspu3O2"
      }
    },
    {
      "cell_type": "code",
      "execution_count": null,
      "metadata": {
        "id": "9YkmXKP0aLbu"
      },
      "outputs": [],
      "source": [
        "!unzip \"/content/drive/MyDrive/Colab Notebooks/txt_reviews.zip\" -d \"/content/Text\""
      ]
    },
    {
      "cell_type": "markdown",
      "source": [
        "#Importing required libraries"
      ],
      "metadata": {
        "id": "z8Fd60uau8jl"
      }
    },
    {
      "cell_type": "code",
      "execution_count": null,
      "metadata": {
        "id": "wbcV5OPDcgRk"
      },
      "outputs": [],
      "source": [
        "import pandas as pd\n",
        "import matplotlib.pyplot as plt\n",
        "import seaborn as sns\n",
        "import re\n",
        "import os\n",
        "from datetime import datetime\n",
        "import nltk\n",
        "nltk.download(\"stopwords\")\n",
        "nltk.download('wordnet')\n",
        "nltk.download('omw-1.4')\n",
        "from nltk.tokenize import word_tokenize\n",
        "from nltk.corpus import stopwords\n",
        "from nltk.stem import PorterStemmer\n",
        "from nltk.stem import WordNetLemmatizer\n",
        "from tqdm.notebook import tqdm\n",
        "tqdm.pandas()"
      ]
    },
    {
      "cell_type": "markdown",
      "source": [
        "# reading text files"
      ],
      "metadata": {
        "id": "-vp4FtxjvF01"
      }
    },
    {
      "cell_type": "code",
      "execution_count": null,
      "metadata": {
        "colab": {
          "base_uri": "https://localhost:8080/"
        },
        "id": "MzfWbZ2pcf4s",
        "outputId": "4fb06303-b13d-4006-a225-03aa773a0754"
      },
      "outputs": [
        {
          "output_type": "stream",
          "name": "stdout",
          "text": [
            "Total number of files in the dataset: 568454\n"
          ]
        }
      ],
      "source": [
        "file_names = os.listdir('/content/Text/txt_reviews')\n",
        "\n",
        "print('Total number of files in the dataset:', len(file_names))"
      ]
    },
    {
      "cell_type": "markdown",
      "source": [
        "# Reading the text files and appeding them into the list"
      ],
      "metadata": {
        "id": "Vs3-c7pivYIl"
      }
    },
    {
      "cell_type": "code",
      "execution_count": null,
      "metadata": {
        "id": "ocFurE1ucpt7"
      },
      "outputs": [],
      "source": [
        "ProductId = []\n",
        "UserId = []\n",
        "ProfileName=[]\n",
        "HelpfulnessNumerator=[]\n",
        "HelpfulnessDenominator=[]\n",
        "Score=[]\n",
        "Time=[]\n",
        "ReviewSummary=[]\n",
        "ReviewText=[]\n",
        "for file in file_names:\n",
        "  with open(\"/content/Text/txt_reviews/\"+file,\"r\") as f:\n",
        "    lines=f.readlines()\n",
        "    ProductId.append(lines[0].split(\":\")[1].strip(\"\\n\"))\n",
        "    UserId.append(lines[1].split(\":\")[1].strip(\"\\n\"))\n",
        "    ProfileName.append(lines[2].split(\":\")[1].strip(\"\\n\"))\n",
        "    HelpfulnessNumerator.append(lines[3].split(\":\")[1].strip(\"\\n\"))\n",
        "    HelpfulnessDenominator.append(lines[4].split(\":\")[1].strip(\"\\n\"))\n",
        "    Score.append(lines[5].split(\":\")[1].strip(\"\\n\"))\n",
        "    Time.append(lines[6].split(\":\")[1].strip(\"\\n\"))\n",
        "    ReviewSummary.append(lines[7].split(\":\")[1].strip(\"\\n\"))\n",
        "    ReviewText.append(lines[8].split(\":\")[1].strip(\"\\n\"))\n"
      ]
    },
    {
      "cell_type": "markdown",
      "source": [
        "# Creating the DataFrame"
      ],
      "metadata": {
        "id": "g1uTK5-2vl2J"
      }
    },
    {
      "cell_type": "code",
      "execution_count": null,
      "metadata": {
        "colab": {
          "base_uri": "https://localhost:8080/",
          "height": 337
        },
        "id": "mrT16nYGh7-h",
        "outputId": "66ed6391-eabf-434c-b280-8c2f671e47e5"
      },
      "outputs": [
        {
          "output_type": "execute_result",
          "data": {
            "text/plain": [
              "     ProductId           UserId            ProfileName HelpfulnessNumerator  \\\n",
              "0   B000F2RIQC   A1QRQSAPZJDWOG   Christie A. Phillips                    0   \n",
              "1   B003C5NN8Q   A1KNNOM3EB1BIW              Poodlemom                    0   \n",
              "2   B000255OIG   A1R87YSXT4SDS4        Robert J. Ruddy                   10   \n",
              "3   B000X61Y60   A2XGVBSTZXCMZ9            K. Connolly                    0   \n",
              "4   B006G7XV7A   A2XL93OUH15DUG             Victor Wen                    0   \n",
              "\n",
              "  HelpfulnessDenominator Score         Time               ReviewSummary  \\\n",
              "0                      0     5   1292889600                    Amazing!   \n",
              "1                      0     5   1325376000                Poodle Party   \n",
              "2                     10     5   1139270400   Freeze dried liver treats   \n",
              "3                      0     5   1346371200    Great taste, less sodium   \n",
              "4                      1     2   1285545600               Not very good   \n",
              "\n",
              "                                          ReviewText  \n",
              "0   This is the absolute best seasoning for chick...  \n",
              "1   My two poodles love the Dogswell Mellow Mut f...  \n",
              "2   My dog has never stopped loving these treats ...  \n",
              "3   The flavor of this natural sea salt is more n...  \n",
              "4   It's not very tasty. Chewing this beef jerky ...  "
            ],
            "text/html": [
              "\n",
              "  <div id=\"df-2573344e-40ff-4b96-aba7-187134b704e7\">\n",
              "    <div class=\"colab-df-container\">\n",
              "      <div>\n",
              "<style scoped>\n",
              "    .dataframe tbody tr th:only-of-type {\n",
              "        vertical-align: middle;\n",
              "    }\n",
              "\n",
              "    .dataframe tbody tr th {\n",
              "        vertical-align: top;\n",
              "    }\n",
              "\n",
              "    .dataframe thead th {\n",
              "        text-align: right;\n",
              "    }\n",
              "</style>\n",
              "<table border=\"1\" class=\"dataframe\">\n",
              "  <thead>\n",
              "    <tr style=\"text-align: right;\">\n",
              "      <th></th>\n",
              "      <th>ProductId</th>\n",
              "      <th>UserId</th>\n",
              "      <th>ProfileName</th>\n",
              "      <th>HelpfulnessNumerator</th>\n",
              "      <th>HelpfulnessDenominator</th>\n",
              "      <th>Score</th>\n",
              "      <th>Time</th>\n",
              "      <th>ReviewSummary</th>\n",
              "      <th>ReviewText</th>\n",
              "    </tr>\n",
              "  </thead>\n",
              "  <tbody>\n",
              "    <tr>\n",
              "      <th>0</th>\n",
              "      <td>B000F2RIQC</td>\n",
              "      <td>A1QRQSAPZJDWOG</td>\n",
              "      <td>Christie A. Phillips</td>\n",
              "      <td>0</td>\n",
              "      <td>0</td>\n",
              "      <td>5</td>\n",
              "      <td>1292889600</td>\n",
              "      <td>Amazing!</td>\n",
              "      <td>This is the absolute best seasoning for chick...</td>\n",
              "    </tr>\n",
              "    <tr>\n",
              "      <th>1</th>\n",
              "      <td>B003C5NN8Q</td>\n",
              "      <td>A1KNNOM3EB1BIW</td>\n",
              "      <td>Poodlemom</td>\n",
              "      <td>0</td>\n",
              "      <td>0</td>\n",
              "      <td>5</td>\n",
              "      <td>1325376000</td>\n",
              "      <td>Poodle Party</td>\n",
              "      <td>My two poodles love the Dogswell Mellow Mut f...</td>\n",
              "    </tr>\n",
              "    <tr>\n",
              "      <th>2</th>\n",
              "      <td>B000255OIG</td>\n",
              "      <td>A1R87YSXT4SDS4</td>\n",
              "      <td>Robert J. Ruddy</td>\n",
              "      <td>10</td>\n",
              "      <td>10</td>\n",
              "      <td>5</td>\n",
              "      <td>1139270400</td>\n",
              "      <td>Freeze dried liver treats</td>\n",
              "      <td>My dog has never stopped loving these treats ...</td>\n",
              "    </tr>\n",
              "    <tr>\n",
              "      <th>3</th>\n",
              "      <td>B000X61Y60</td>\n",
              "      <td>A2XGVBSTZXCMZ9</td>\n",
              "      <td>K. Connolly</td>\n",
              "      <td>0</td>\n",
              "      <td>0</td>\n",
              "      <td>5</td>\n",
              "      <td>1346371200</td>\n",
              "      <td>Great taste, less sodium</td>\n",
              "      <td>The flavor of this natural sea salt is more n...</td>\n",
              "    </tr>\n",
              "    <tr>\n",
              "      <th>4</th>\n",
              "      <td>B006G7XV7A</td>\n",
              "      <td>A2XL93OUH15DUG</td>\n",
              "      <td>Victor Wen</td>\n",
              "      <td>0</td>\n",
              "      <td>1</td>\n",
              "      <td>2</td>\n",
              "      <td>1285545600</td>\n",
              "      <td>Not very good</td>\n",
              "      <td>It's not very tasty. Chewing this beef jerky ...</td>\n",
              "    </tr>\n",
              "  </tbody>\n",
              "</table>\n",
              "</div>\n",
              "      <button class=\"colab-df-convert\" onclick=\"convertToInteractive('df-2573344e-40ff-4b96-aba7-187134b704e7')\"\n",
              "              title=\"Convert this dataframe to an interactive table.\"\n",
              "              style=\"display:none;\">\n",
              "        \n",
              "  <svg xmlns=\"http://www.w3.org/2000/svg\" height=\"24px\"viewBox=\"0 0 24 24\"\n",
              "       width=\"24px\">\n",
              "    <path d=\"M0 0h24v24H0V0z\" fill=\"none\"/>\n",
              "    <path d=\"M18.56 5.44l.94 2.06.94-2.06 2.06-.94-2.06-.94-.94-2.06-.94 2.06-2.06.94zm-11 1L8.5 8.5l.94-2.06 2.06-.94-2.06-.94L8.5 2.5l-.94 2.06-2.06.94zm10 10l.94 2.06.94-2.06 2.06-.94-2.06-.94-.94-2.06-.94 2.06-2.06.94z\"/><path d=\"M17.41 7.96l-1.37-1.37c-.4-.4-.92-.59-1.43-.59-.52 0-1.04.2-1.43.59L10.3 9.45l-7.72 7.72c-.78.78-.78 2.05 0 2.83L4 21.41c.39.39.9.59 1.41.59.51 0 1.02-.2 1.41-.59l7.78-7.78 2.81-2.81c.8-.78.8-2.07 0-2.86zM5.41 20L4 18.59l7.72-7.72 1.47 1.35L5.41 20z\"/>\n",
              "  </svg>\n",
              "      </button>\n",
              "      \n",
              "  <style>\n",
              "    .colab-df-container {\n",
              "      display:flex;\n",
              "      flex-wrap:wrap;\n",
              "      gap: 12px;\n",
              "    }\n",
              "\n",
              "    .colab-df-convert {\n",
              "      background-color: #E8F0FE;\n",
              "      border: none;\n",
              "      border-radius: 50%;\n",
              "      cursor: pointer;\n",
              "      display: none;\n",
              "      fill: #1967D2;\n",
              "      height: 32px;\n",
              "      padding: 0 0 0 0;\n",
              "      width: 32px;\n",
              "    }\n",
              "\n",
              "    .colab-df-convert:hover {\n",
              "      background-color: #E2EBFA;\n",
              "      box-shadow: 0px 1px 2px rgba(60, 64, 67, 0.3), 0px 1px 3px 1px rgba(60, 64, 67, 0.15);\n",
              "      fill: #174EA6;\n",
              "    }\n",
              "\n",
              "    [theme=dark] .colab-df-convert {\n",
              "      background-color: #3B4455;\n",
              "      fill: #D2E3FC;\n",
              "    }\n",
              "\n",
              "    [theme=dark] .colab-df-convert:hover {\n",
              "      background-color: #434B5C;\n",
              "      box-shadow: 0px 1px 3px 1px rgba(0, 0, 0, 0.15);\n",
              "      filter: drop-shadow(0px 1px 2px rgba(0, 0, 0, 0.3));\n",
              "      fill: #FFFFFF;\n",
              "    }\n",
              "  </style>\n",
              "\n",
              "      <script>\n",
              "        const buttonEl =\n",
              "          document.querySelector('#df-2573344e-40ff-4b96-aba7-187134b704e7 button.colab-df-convert');\n",
              "        buttonEl.style.display =\n",
              "          google.colab.kernel.accessAllowed ? 'block' : 'none';\n",
              "\n",
              "        async function convertToInteractive(key) {\n",
              "          const element = document.querySelector('#df-2573344e-40ff-4b96-aba7-187134b704e7');\n",
              "          const dataTable =\n",
              "            await google.colab.kernel.invokeFunction('convertToInteractive',\n",
              "                                                     [key], {});\n",
              "          if (!dataTable) return;\n",
              "\n",
              "          const docLinkHtml = 'Like what you see? Visit the ' +\n",
              "            '<a target=\"_blank\" href=https://colab.research.google.com/notebooks/data_table.ipynb>data table notebook</a>'\n",
              "            + ' to learn more about interactive tables.';\n",
              "          element.innerHTML = '';\n",
              "          dataTable['output_type'] = 'display_data';\n",
              "          await google.colab.output.renderOutput(dataTable, element);\n",
              "          const docLink = document.createElement('div');\n",
              "          docLink.innerHTML = docLinkHtml;\n",
              "          element.appendChild(docLink);\n",
              "        }\n",
              "      </script>\n",
              "    </div>\n",
              "  </div>\n",
              "  "
            ]
          },
          "metadata": {},
          "execution_count": 5
        }
      ],
      "source": [
        "review_text=pd.DataFrame({\"ProductId\":ProductId,\"UserId\":UserId,\"ProfileName\":ProfileName,\n",
        "                          \"HelpfulnessNumerator\":HelpfulnessNumerator,\"HelpfulnessDenominator\":HelpfulnessDenominator,\n",
        "                          \"Score\":Score,\"Time\":Time,\"ReviewSummary\":ReviewSummary,\"ReviewText\":ReviewText})\n",
        "review_text.head()"
      ]
    },
    {
      "cell_type": "markdown",
      "source": [
        "# Cleaning Steps as below"
      ],
      "metadata": {
        "id": "N9UYyEOsvq3K"
      }
    },
    {
      "cell_type": "code",
      "execution_count": null,
      "metadata": {
        "id": "NJtlAA7Xcp67"
      },
      "outputs": [],
      "source": [
        "review_text[[\"HelpfulnessNumerator\",\"HelpfulnessDenominator\",\"Score\",\"Time\"]]=review_text[[\"HelpfulnessNumerator\",\"HelpfulnessDenominator\",\"Score\",\"Time\"]].apply(pd.to_numeric)"
      ]
    },
    {
      "cell_type": "code",
      "execution_count": null,
      "metadata": {
        "id": "iNTFNB2Pcp_3"
      },
      "outputs": [],
      "source": [
        "review_text[\"Helpfulness\"]=(review_text[\"HelpfulnessNumerator\"]/review_text[\"HelpfulnessDenominator\"])*100"
      ]
    },
    {
      "cell_type": "code",
      "execution_count": null,
      "metadata": {
        "id": "AeKH7n1icqGH"
      },
      "outputs": [],
      "source": [
        "review_text[\"Helpfulness\"]=review_text[\"Helpfulness\"].fillna(0)"
      ]
    },
    {
      "cell_type": "code",
      "execution_count": null,
      "metadata": {
        "id": "opme-buLhpcQ"
      },
      "outputs": [],
      "source": [
        "review_text[\"Helpfulness\"]=review_text[\"Helpfulness\"].astype(float)"
      ]
    },
    {
      "cell_type": "code",
      "execution_count": null,
      "metadata": {
        "id": "mxedHjWji4eI"
      },
      "outputs": [],
      "source": [
        "review_text[\"Time\"]=review_text[\"Time\"].apply(lambda x:''.join(re.findall('(.*)T',datetime.fromtimestamp(x).isoformat())))"
      ]
    },
    {
      "cell_type": "code",
      "execution_count": null,
      "metadata": {
        "id": "j_0vG64Vi4jS"
      },
      "outputs": [],
      "source": [
        "review_text[\"Time\"]=pd.to_datetime(review_text[\"Time\"])"
      ]
    },
    {
      "cell_type": "code",
      "execution_count": null,
      "metadata": {
        "colab": {
          "base_uri": "https://localhost:8080/"
        },
        "id": "7cwMYZrkjn7G",
        "outputId": "1dad473c-22f1-44f4-ed7a-5f586837ec28"
      },
      "outputs": [
        {
          "output_type": "stream",
          "name": "stdout",
          "text": [
            "<class 'pandas.core.frame.DataFrame'>\n",
            "RangeIndex: 568454 entries, 0 to 568453\n",
            "Data columns (total 10 columns):\n",
            " #   Column                  Non-Null Count   Dtype         \n",
            "---  ------                  --------------   -----         \n",
            " 0   ProductId               568454 non-null  object        \n",
            " 1   UserId                  568454 non-null  object        \n",
            " 2   ProfileName             568454 non-null  object        \n",
            " 3   HelpfulnessNumerator    568454 non-null  int64         \n",
            " 4   HelpfulnessDenominator  568454 non-null  int64         \n",
            " 5   Score                   568454 non-null  int64         \n",
            " 6   Time                    568454 non-null  datetime64[ns]\n",
            " 7   ReviewSummary           568454 non-null  object        \n",
            " 8   ReviewText              568454 non-null  object        \n",
            " 9   Helpfulness             568454 non-null  float64       \n",
            "dtypes: datetime64[ns](1), float64(1), int64(3), object(5)\n",
            "memory usage: 43.4+ MB\n"
          ]
        }
      ],
      "source": [
        "review_text.info()"
      ]
    },
    {
      "cell_type": "code",
      "execution_count": null,
      "metadata": {
        "colab": {
          "base_uri": "https://localhost:8080/"
        },
        "id": "dYGADl-jkGLj",
        "outputId": "01193773-c554-4d57-ae7b-110a8ac24c00"
      },
      "outputs": [
        {
          "output_type": "execute_result",
          "data": {
            "text/plain": [
              "287"
            ]
          },
          "metadata": {},
          "execution_count": 13
        }
      ],
      "source": [
        "review_text.duplicated().sum()"
      ]
    },
    {
      "cell_type": "code",
      "execution_count": null,
      "metadata": {
        "id": "1yHPKlLIjoJF"
      },
      "outputs": [],
      "source": [
        "review_text.drop_duplicates(inplace=True)"
      ]
    },
    {
      "cell_type": "markdown",
      "source": [
        "# Saving into CSV file"
      ],
      "metadata": {
        "id": "fu8eMPa2v863"
      }
    },
    {
      "cell_type": "code",
      "source": [
        "review_text.to_csv(\"text1.csv\")"
      ],
      "metadata": {
        "id": "l9J8g-d_UpWB"
      },
      "execution_count": null,
      "outputs": []
    },
    {
      "cell_type": "markdown",
      "source": [
        "# Segregation of Score into positive (1) and Negative(0) sentiments"
      ],
      "metadata": {
        "id": "aNEyMhSEwIjR"
      }
    },
    {
      "cell_type": "code",
      "execution_count": null,
      "metadata": {
        "id": "6xSyi8UBl3bw"
      },
      "outputs": [],
      "source": [
        "review_text.loc[review_text['Score']<3, 'Score'] = 0\n",
        "review_text.loc[review_text['Score']>3, 'Score'] = 1"
      ]
    },
    {
      "cell_type": "code",
      "execution_count": null,
      "metadata": {
        "id": "7I_5qXo6l2-L"
      },
      "outputs": [],
      "source": [
        "review_text=review_text[review_text[\"Score\"]!=3]"
      ]
    },
    {
      "cell_type": "code",
      "execution_count": null,
      "metadata": {
        "id": "JtjcKtJzqCVZ"
      },
      "outputs": [],
      "source": [
        "review_text.to_csv(\"text.csv\")"
      ]
    },
    {
      "cell_type": "code",
      "execution_count": null,
      "metadata": {
        "id": "UnQNpDyYjoTV"
      },
      "outputs": [],
      "source": [
        "stemmer=PorterStemmer()\n",
        "lemmatizer=WordNetLemmatizer()"
      ]
    },
    {
      "cell_type": "markdown",
      "source": [
        "# Reading the CSV file"
      ],
      "metadata": {
        "id": "k1pxUyFvwYlE"
      }
    },
    {
      "cell_type": "code",
      "source": [
        "df=pd.read_csv(\"/content/drive/MyDrive/Colab Notebooks/text.csv\")"
      ],
      "metadata": {
        "id": "kWJCo7A1vmey"
      },
      "execution_count": null,
      "outputs": []
    },
    {
      "cell_type": "markdown",
      "source": [
        "# Defining the function for all data cleaning steps under preprocess"
      ],
      "metadata": {
        "id": "O67iHc1gwfSp"
      }
    },
    {
      "cell_type": "code",
      "source": [
        "def preprocess1(text,flag):\n",
        "    sentence=re.sub(\"[^a-zA-Z]\",\" \",text)\n",
        "    sentence=sentence.lower()\n",
        "    tokens=sentence.split()\n",
        "    clean_tokens=[t for t in tokens if t not in stopwords.words(\"english\")]\n",
        "    if flag==\"stem\":\n",
        "        clean_tokens=[stemmer.stem(word) for word in clean_tokens]\n",
        "    else:\n",
        "        clean_tokens=[lemmatizer.lemmatize(word) for word in clean_tokens]\n",
        "    return \" \".join(clean_tokens)"
      ],
      "metadata": {
        "id": "JCxejPaGv_BY"
      },
      "execution_count": null,
      "outputs": []
    },
    {
      "cell_type": "markdown",
      "source": [
        "# Defining the input and output "
      ],
      "metadata": {
        "id": "E9Eko7sMwudJ"
      }
    },
    {
      "cell_type": "code",
      "execution_count": null,
      "metadata": {
        "id": "LEHU7KJqwArg"
      },
      "outputs": [],
      "source": [
        "X=df[[\"ReviewText\",\"ReviewSummary\"]]\n",
        "y=df[\"Score\"]"
      ]
    },
    {
      "cell_type": "code",
      "execution_count": null,
      "metadata": {
        "id": "rihkuQ30wArh"
      },
      "outputs": [],
      "source": [
        "from tqdm.notebook import tqdm\n",
        "tqdm.pandas()"
      ]
    },
    {
      "cell_type": "markdown",
      "source": [
        "# Splitting the Data into train and test"
      ],
      "metadata": {
        "id": "OPcFSxRIw3La"
      }
    },
    {
      "cell_type": "code",
      "execution_count": null,
      "metadata": {
        "id": "3KPahnP8wAri"
      },
      "outputs": [],
      "source": [
        "from sklearn.model_selection import train_test_split\n",
        "X_train,X_test,y_train,y_test=train_test_split(X,y,test_size=0.2,random_state=50)"
      ]
    },
    {
      "cell_type": "markdown",
      "source": [
        "# Applying the data cleaning steps for the text data"
      ],
      "metadata": {
        "id": "jugL8D_Jw92y"
      }
    },
    {
      "cell_type": "code",
      "execution_count": null,
      "metadata": {
        "colab": {
          "base_uri": "https://localhost:8080/",
          "height": 49,
          "referenced_widgets": [
            "4b624ce175f1478dafd8b4cefc91a919",
            "bdb71bbb71d8480e9ae5a35f983cb9f6",
            "bac88f10763c4d67a090379c6a98cf70",
            "f15db50a46d34160bff414148a54d587",
            "3c4891241a214c27a12b4ae293f12f3c",
            "10419369be754ede9b5436c3e7ef0c6a",
            "db54962e95ed4cd48453b5397bb6fd2c",
            "22e112349a324c5cb91f557da40bc668",
            "36bc8aa33a9646bbb26f6d663fcedfdf",
            "321492f287964831bfecf45f4b721abf",
            "7e1dc002bf494031bcd0a7d496d47492"
          ]
        },
        "outputId": "b34a834d-ddbc-439d-97d9-53b49becc8fa",
        "id": "831XMnPIwAri"
      },
      "outputs": [
        {
          "output_type": "display_data",
          "data": {
            "text/plain": [
              "  0%|          | 0/420442 [00:00<?, ?it/s]"
            ],
            "application/vnd.jupyter.widget-view+json": {
              "version_major": 2,
              "version_minor": 0,
              "model_id": "4b624ce175f1478dafd8b4cefc91a919"
            }
          },
          "metadata": {}
        }
      ],
      "source": [
        "X_train[\"ReviewText\"]=X_train[\"ReviewText\"].progress_apply(lambda x : preprocess1(x,\"lemma\"))\n"
      ]
    },
    {
      "cell_type": "code",
      "source": [
        "X_train[\"ReviewSummary\"]=X_train[\"ReviewSummary\"].progress_apply(lambda x : preprocess1(x,\"lemma\"))"
      ],
      "metadata": {
        "colab": {
          "base_uri": "https://localhost:8080/",
          "height": 49,
          "referenced_widgets": [
            "cb17b126981040e4bd1f5fa99204df2c",
            "4b7186b92434495a918ae8525a5b5f29",
            "92d8c99d73e445efbe4d2f72df0af923",
            "fc8bd185ba9a47068c15cda3c0364066",
            "7b5de76a91834df89afc90f65016f73e",
            "d047c061c8cd493981832490411cf7d0",
            "b9de249b1f9447aa800a4647800e3783",
            "91b6137e6d2b48b58bc646042de3a7bb",
            "10ccb45baa5e42649c74fd2f89262736",
            "21a4819516d147a0886d139c4c38b14d",
            "653bf76aabf844719871b45f30e65b89"
          ]
        },
        "id": "9l8T-JmexX_F",
        "outputId": "831ab6f6-6498-4e58-f3dc-877b32343e9a"
      },
      "execution_count": null,
      "outputs": [
        {
          "output_type": "display_data",
          "data": {
            "text/plain": [
              "  0%|          | 0/420442 [00:00<?, ?it/s]"
            ],
            "application/vnd.jupyter.widget-view+json": {
              "version_major": 2,
              "version_minor": 0,
              "model_id": "cb17b126981040e4bd1f5fa99204df2c"
            }
          },
          "metadata": {}
        }
      ]
    },
    {
      "cell_type": "code",
      "execution_count": null,
      "metadata": {
        "colab": {
          "base_uri": "https://localhost:8080/",
          "height": 49,
          "referenced_widgets": [
            "1cfffb4c5c1c4ce6ba952d25b205524f",
            "e8753d11f5464304be11ef8831ae228d",
            "c60bfa2c192a48438ab2ceffd94be222",
            "e6dfb37c1a984f1783a8483839e003d4",
            "a5212ed8a03a43ce8b6580dea87bb12a",
            "b51a7a8c9db44cad86cd1d67e6bdc1b6",
            "09085837c9e94ebd8df5fecdc38d14b2",
            "66f7c8b5063449ba81c356902f51693c",
            "1937dfa4ec674d7fafcfc1234b68478d",
            "4a80014303fc440ba18f8ba8bb648af4",
            "d5ae720f8aa44ba7a269f16adcd0de39"
          ]
        },
        "outputId": "ee84577f-2daf-486d-e768-f3b12d0a9228",
        "id": "VrRp5jmnwArj"
      },
      "outputs": [
        {
          "output_type": "display_data",
          "data": {
            "text/plain": [
              "  0%|          | 0/105111 [00:00<?, ?it/s]"
            ],
            "application/vnd.jupyter.widget-view+json": {
              "version_major": 2,
              "version_minor": 0,
              "model_id": "1cfffb4c5c1c4ce6ba952d25b205524f"
            }
          },
          "metadata": {}
        }
      ],
      "source": [
        "X_test[\"ReviewText\"]=X_test[\"ReviewText\"].progress_apply(lambda x : preprocess1(x,\"lemma\"))\n"
      ]
    },
    {
      "cell_type": "code",
      "source": [
        "X_test[\"ReviewSummary\"]=X_test[\"ReviewSummary\"].progress_apply(lambda x : preprocess1(x,\"lemma\"))"
      ],
      "metadata": {
        "colab": {
          "base_uri": "https://localhost:8080/",
          "height": 49,
          "referenced_widgets": [
            "84d6ea242b1e46a485b28d8b0760c442",
            "59f412900c514e118b34c06470084d53",
            "584ab1f862a345cb980b09765c32754f",
            "f8993cc7bbf84762b9f3cf6196b908f1",
            "41c547d0ced24a348796f4709b08a974",
            "b9873540d24d454781b9a7a0f46bf337",
            "7c0b258ae80a4c4381b1bde1bd1a1563",
            "2a5bf1eb4a8b4a01869fb923ef7c155e",
            "9a360dd490074befbd5449e3b5dc51d8",
            "478c33e268ac419bbcb3b902200c84cc",
            "92f5ef55f9844189aa793dcdd9b54c93"
          ]
        },
        "id": "E_xgixHXxqtJ",
        "outputId": "10c4fc02-39e6-4b89-ddd2-39f01c6915e5"
      },
      "execution_count": null,
      "outputs": [
        {
          "output_type": "display_data",
          "data": {
            "text/plain": [
              "  0%|          | 0/105111 [00:00<?, ?it/s]"
            ],
            "application/vnd.jupyter.widget-view+json": {
              "version_major": 2,
              "version_minor": 0,
              "model_id": "84d6ea242b1e46a485b28d8b0760c442"
            }
          },
          "metadata": {}
        }
      ]
    },
    {
      "cell_type": "code",
      "execution_count": null,
      "metadata": {
        "id": "DhJXFHyVwArl"
      },
      "outputs": [],
      "source": [
        "X_train1.to_csv(\"X_train_clean.csv\")\n",
        "X_test1.to_csv(\"X_test_clean.csv\")"
      ]
    },
    {
      "cell_type": "markdown",
      "source": [
        "# Extracting the numerical features from the text data"
      ],
      "metadata": {
        "id": "vDOW23tBxOrZ"
      }
    },
    {
      "cell_type": "code",
      "execution_count": null,
      "metadata": {
        "id": "BF10Z7O_wArl"
      },
      "outputs": [],
      "source": [
        "from sklearn.feature_extraction.text import TfidfVectorizer"
      ]
    },
    {
      "cell_type": "code",
      "execution_count": null,
      "metadata": {
        "id": "dAZggYn4wArm"
      },
      "outputs": [],
      "source": [
        "vocab=TfidfVectorizer()\n",
        "X_train_trans1=vocab.fit_transform(X_train[\"ReviewText\"])\n",
        "X_test_trans1=vocab.transform(X_test[\"ReviewText\"])"
      ]
    },
    {
      "cell_type": "code",
      "source": [
        "X_train_trans2=vocab.fit_transform(X_train[\"ReviewSummary\"])\n",
        "X_test_trans2=vocab.transform(X_test[\"ReviewSummary\"])"
      ],
      "metadata": {
        "id": "cD7CmKqnE4hv"
      },
      "execution_count": null,
      "outputs": []
    },
    {
      "cell_type": "markdown",
      "source": [
        "# Concating the dtm's using scipy"
      ],
      "metadata": {
        "id": "REdHyJXExeuS"
      }
    },
    {
      "cell_type": "code",
      "source": [
        "import scipy"
      ],
      "metadata": {
        "id": "B6h1JdONE30R"
      },
      "execution_count": null,
      "outputs": []
    },
    {
      "cell_type": "code",
      "source": [
        "from scipy.sparse import hstack\n",
        "X_train_trans=hstack((X_train_trans1, X_train_trans2))"
      ],
      "metadata": {
        "colab": {
          "base_uri": "https://localhost:8080/"
        },
        "id": "AALCfhKAFgR4",
        "outputId": "c169392c-8eef-4e0a-8568-15dac1e6fa82"
      },
      "execution_count": null,
      "outputs": [
        {
          "output_type": "execute_result",
          "data": {
            "text/plain": [
              "<420442x25973 sparse matrix of type '<class 'numpy.float64'>'\n",
              "\twith 1181544 stored elements in Compressed Sparse Row format>"
            ]
          },
          "metadata": {},
          "execution_count": 116
        }
      ]
    },
    {
      "cell_type": "code",
      "source": [
        "X_test_trans=hstack((X_test_trans1, X_test_trans2))"
      ],
      "metadata": {
        "id": "I91Yf8hmFgKa"
      },
      "execution_count": null,
      "outputs": []
    },
    {
      "cell_type": "markdown",
      "source": [
        "# LogisticRegression"
      ],
      "metadata": {
        "id": "B5YBpQwUxps8"
      }
    },
    {
      "cell_type": "code",
      "execution_count": null,
      "metadata": {
        "colab": {
          "base_uri": "https://localhost:8080/"
        },
        "outputId": "d4784c8b-37cb-4144-8359-22cf1244f559",
        "id": "N93AzukQwArn"
      },
      "outputs": [
        {
          "output_type": "stream",
          "name": "stderr",
          "text": [
            "/usr/local/lib/python3.8/dist-packages/sklearn/linear_model/_logistic.py:814: ConvergenceWarning: lbfgs failed to converge (status=1):\n",
            "STOP: TOTAL NO. of ITERATIONS REACHED LIMIT.\n",
            "\n",
            "Increase the number of iterations (max_iter) or scale the data as shown in:\n",
            "    https://scikit-learn.org/stable/modules/preprocessing.html\n",
            "Please also refer to the documentation for alternative solver options:\n",
            "    https://scikit-learn.org/stable/modules/linear_model.html#logistic-regression\n",
            "  n_iter_i = _check_optimize_result(\n"
          ]
        },
        {
          "output_type": "execute_result",
          "data": {
            "text/plain": [
              "0.9525454043820343"
            ]
          },
          "metadata": {},
          "execution_count": 117
        }
      ],
      "source": [
        "from sklearn.linear_model import LogisticRegression\n",
        "log=LogisticRegression()\n",
        "log.fit(X_train_trans,y_train)\n",
        "y_test_pred=log.predict(X_test_trans)\n",
        "from sklearn import metrics\n",
        "metrics.accuracy_score(y_test,y_test_pred)"
      ]
    },
    {
      "cell_type": "markdown",
      "source": [
        "# GradientBoostingClassifier"
      ],
      "metadata": {
        "id": "-Mvgl_icxuEB"
      }
    },
    {
      "cell_type": "code",
      "execution_count": null,
      "metadata": {
        "colab": {
          "base_uri": "https://localhost:8080/"
        },
        "outputId": "2b60ae8f-e4ba-49de-b7d8-27eacfeca9b1",
        "id": "Eb3iKkQVGMls"
      },
      "outputs": [
        {
          "output_type": "execute_result",
          "data": {
            "text/plain": [
              "0.8805358145198885"
            ]
          },
          "metadata": {},
          "execution_count": 118
        }
      ],
      "source": [
        "from sklearn.ensemble import GradientBoostingClassifier\n",
        "GB=GradientBoostingClassifier()\n",
        "GB.fit(X_train_trans,y_train)\n",
        "y_test_pred=GB.predict(X_test_trans)\n",
        "from sklearn import metrics\n",
        "metrics.accuracy_score(y_test,y_test_pred)"
      ]
    },
    {
      "cell_type": "markdown",
      "source": [
        "# RandomForestClassifier"
      ],
      "metadata": {
        "id": "i3ODbRoyxxJj"
      }
    },
    {
      "cell_type": "code",
      "execution_count": null,
      "metadata": {
        "colab": {
          "base_uri": "https://localhost:8080/"
        },
        "outputId": "f8f9886a-8dc0-4fe9-ed11-27ba22472bae",
        "id": "VPRw8pKoGMlu"
      },
      "outputs": [
        {
          "output_type": "execute_result",
          "data": {
            "text/plain": [
              "0.936685979583488"
            ]
          },
          "metadata": {},
          "execution_count": 119
        }
      ],
      "source": [
        "from sklearn.ensemble import RandomForestClassifier\n",
        "Ran=RandomForestClassifier()\n",
        "Ran.fit(X_train_trans,y_train)\n",
        "y_test_pred=Ran.predict(X_test_trans)\n",
        "from sklearn import metrics\n",
        "metrics.accuracy_score(y_test,y_test_pred)"
      ]
    },
    {
      "cell_type": "markdown",
      "source": [
        "# AdaBoostClassifier"
      ],
      "metadata": {
        "id": "rsMR_c6nx04o"
      }
    },
    {
      "cell_type": "code",
      "execution_count": null,
      "metadata": {
        "colab": {
          "base_uri": "https://localhost:8080/"
        },
        "outputId": "74c2281a-c2e7-4f71-9e82-144dfcc751ce",
        "id": "iwGJNi86GMlv"
      },
      "outputs": [
        {
          "output_type": "execute_result",
          "data": {
            "text/plain": [
              "0.8830189038254798"
            ]
          },
          "metadata": {},
          "execution_count": 120
        }
      ],
      "source": [
        "from sklearn.ensemble import AdaBoostClassifier\n",
        "Ada=AdaBoostClassifier()\n",
        "Ada.fit(X_train_trans,y_train)\n",
        "y_test_pred=Ada.predict(X_test_trans)\n",
        "from sklearn import metrics\n",
        "metrics.accuracy_score(y_test,y_test_pred)"
      ]
    },
    {
      "cell_type": "markdown",
      "source": [
        "# KNeighborsClassifier"
      ],
      "metadata": {
        "id": "NyZmF1B2x4cX"
      }
    },
    {
      "cell_type": "code",
      "execution_count": null,
      "metadata": {
        "colab": {
          "base_uri": "https://localhost:8080/"
        },
        "outputId": "0be3d133-e50b-43c8-da26-9bfad6a8517e",
        "id": "CxfmCXl0GMlw"
      },
      "outputs": [
        {
          "output_type": "execute_result",
          "data": {
            "text/plain": [
              "0.908553814538916"
            ]
          },
          "metadata": {},
          "execution_count": 121
        }
      ],
      "source": [
        "from sklearn.neighbors import KNeighborsClassifier\n",
        "Knn=KNeighborsClassifier()\n",
        "Knn.fit(X_train_trans,y_train)\n",
        "y_test_pred=Knn.predict(X_test_trans)\n",
        "from sklearn import metrics\n",
        "metrics.accuracy_score(y_test,y_test_pred)"
      ]
    },
    {
      "cell_type": "markdown",
      "source": [
        "# DecisionTreeClassifier"
      ],
      "metadata": {
        "id": "k3nPK-qCx7x0"
      }
    },
    {
      "cell_type": "code",
      "source": [
        "from sklearn.tree import DecisionTreeClassifier\n",
        "dt=DecisionTreeClassifier()\n",
        "dt.fit(X_train_trans,y_train)\n",
        "y_test_pred=dt.predict(X_test_trans)\n",
        "from sklearn import metrics\n",
        "metrics.accuracy_score(y_test,y_test_pred)"
      ],
      "metadata": {
        "colab": {
          "base_uri": "https://localhost:8080/"
        },
        "id": "OiSOjmJkv_Ob",
        "outputId": "80cc19c5-766c-4d4f-a231-4682b9c974ad"
      },
      "execution_count": null,
      "outputs": [
        {
          "output_type": "execute_result",
          "data": {
            "text/plain": [
              "0.9202557296572195"
            ]
          },
          "metadata": {},
          "execution_count": 122
        }
      ]
    },
    {
      "cell_type": "markdown",
      "source": [
        "# Conclusion\n",
        "- From the above all accuracy scores we say that LogisticRegression is the best fit model for sentiment prediction"
      ],
      "metadata": {
        "id": "PJAVIcehyFfZ"
      }
    },
    {
      "cell_type": "code",
      "source": [],
      "metadata": {
        "id": "PhoeXVUyufh4"
      },
      "execution_count": null,
      "outputs": []
    }
  ],
  "metadata": {
    "accelerator": "TPU",
    "colab": {
      "provenance": []
    },
    "gpuClass": "standard",
    "kernelspec": {
      "display_name": "Python 3",
      "name": "python3"
    },
    "language_info": {
      "name": "python"
    },
    "widgets": {
      "application/vnd.jupyter.widget-state+json": {
        "4b624ce175f1478dafd8b4cefc91a919": {
          "model_module": "@jupyter-widgets/controls",
          "model_name": "HBoxModel",
          "model_module_version": "1.5.0",
          "state": {
            "_dom_classes": [],
            "_model_module": "@jupyter-widgets/controls",
            "_model_module_version": "1.5.0",
            "_model_name": "HBoxModel",
            "_view_count": null,
            "_view_module": "@jupyter-widgets/controls",
            "_view_module_version": "1.5.0",
            "_view_name": "HBoxView",
            "box_style": "",
            "children": [
              "IPY_MODEL_bdb71bbb71d8480e9ae5a35f983cb9f6",
              "IPY_MODEL_bac88f10763c4d67a090379c6a98cf70",
              "IPY_MODEL_f15db50a46d34160bff414148a54d587"
            ],
            "layout": "IPY_MODEL_3c4891241a214c27a12b4ae293f12f3c"
          }
        },
        "bdb71bbb71d8480e9ae5a35f983cb9f6": {
          "model_module": "@jupyter-widgets/controls",
          "model_name": "HTMLModel",
          "model_module_version": "1.5.0",
          "state": {
            "_dom_classes": [],
            "_model_module": "@jupyter-widgets/controls",
            "_model_module_version": "1.5.0",
            "_model_name": "HTMLModel",
            "_view_count": null,
            "_view_module": "@jupyter-widgets/controls",
            "_view_module_version": "1.5.0",
            "_view_name": "HTMLView",
            "description": "",
            "description_tooltip": null,
            "layout": "IPY_MODEL_10419369be754ede9b5436c3e7ef0c6a",
            "placeholder": "​",
            "style": "IPY_MODEL_db54962e95ed4cd48453b5397bb6fd2c",
            "value": "100%"
          }
        },
        "bac88f10763c4d67a090379c6a98cf70": {
          "model_module": "@jupyter-widgets/controls",
          "model_name": "FloatProgressModel",
          "model_module_version": "1.5.0",
          "state": {
            "_dom_classes": [],
            "_model_module": "@jupyter-widgets/controls",
            "_model_module_version": "1.5.0",
            "_model_name": "FloatProgressModel",
            "_view_count": null,
            "_view_module": "@jupyter-widgets/controls",
            "_view_module_version": "1.5.0",
            "_view_name": "ProgressView",
            "bar_style": "success",
            "description": "",
            "description_tooltip": null,
            "layout": "IPY_MODEL_22e112349a324c5cb91f557da40bc668",
            "max": 420442,
            "min": 0,
            "orientation": "horizontal",
            "style": "IPY_MODEL_36bc8aa33a9646bbb26f6d663fcedfdf",
            "value": 420442
          }
        },
        "f15db50a46d34160bff414148a54d587": {
          "model_module": "@jupyter-widgets/controls",
          "model_name": "HTMLModel",
          "model_module_version": "1.5.0",
          "state": {
            "_dom_classes": [],
            "_model_module": "@jupyter-widgets/controls",
            "_model_module_version": "1.5.0",
            "_model_name": "HTMLModel",
            "_view_count": null,
            "_view_module": "@jupyter-widgets/controls",
            "_view_module_version": "1.5.0",
            "_view_name": "HTMLView",
            "description": "",
            "description_tooltip": null,
            "layout": "IPY_MODEL_321492f287964831bfecf45f4b721abf",
            "placeholder": "​",
            "style": "IPY_MODEL_7e1dc002bf494031bcd0a7d496d47492",
            "value": " 420442/420442 [53:17&lt;00:00, 82.64it/s]"
          }
        },
        "3c4891241a214c27a12b4ae293f12f3c": {
          "model_module": "@jupyter-widgets/base",
          "model_name": "LayoutModel",
          "model_module_version": "1.2.0",
          "state": {
            "_model_module": "@jupyter-widgets/base",
            "_model_module_version": "1.2.0",
            "_model_name": "LayoutModel",
            "_view_count": null,
            "_view_module": "@jupyter-widgets/base",
            "_view_module_version": "1.2.0",
            "_view_name": "LayoutView",
            "align_content": null,
            "align_items": null,
            "align_self": null,
            "border": null,
            "bottom": null,
            "display": null,
            "flex": null,
            "flex_flow": null,
            "grid_area": null,
            "grid_auto_columns": null,
            "grid_auto_flow": null,
            "grid_auto_rows": null,
            "grid_column": null,
            "grid_gap": null,
            "grid_row": null,
            "grid_template_areas": null,
            "grid_template_columns": null,
            "grid_template_rows": null,
            "height": null,
            "justify_content": null,
            "justify_items": null,
            "left": null,
            "margin": null,
            "max_height": null,
            "max_width": null,
            "min_height": null,
            "min_width": null,
            "object_fit": null,
            "object_position": null,
            "order": null,
            "overflow": null,
            "overflow_x": null,
            "overflow_y": null,
            "padding": null,
            "right": null,
            "top": null,
            "visibility": null,
            "width": null
          }
        },
        "10419369be754ede9b5436c3e7ef0c6a": {
          "model_module": "@jupyter-widgets/base",
          "model_name": "LayoutModel",
          "model_module_version": "1.2.0",
          "state": {
            "_model_module": "@jupyter-widgets/base",
            "_model_module_version": "1.2.0",
            "_model_name": "LayoutModel",
            "_view_count": null,
            "_view_module": "@jupyter-widgets/base",
            "_view_module_version": "1.2.0",
            "_view_name": "LayoutView",
            "align_content": null,
            "align_items": null,
            "align_self": null,
            "border": null,
            "bottom": null,
            "display": null,
            "flex": null,
            "flex_flow": null,
            "grid_area": null,
            "grid_auto_columns": null,
            "grid_auto_flow": null,
            "grid_auto_rows": null,
            "grid_column": null,
            "grid_gap": null,
            "grid_row": null,
            "grid_template_areas": null,
            "grid_template_columns": null,
            "grid_template_rows": null,
            "height": null,
            "justify_content": null,
            "justify_items": null,
            "left": null,
            "margin": null,
            "max_height": null,
            "max_width": null,
            "min_height": null,
            "min_width": null,
            "object_fit": null,
            "object_position": null,
            "order": null,
            "overflow": null,
            "overflow_x": null,
            "overflow_y": null,
            "padding": null,
            "right": null,
            "top": null,
            "visibility": null,
            "width": null
          }
        },
        "db54962e95ed4cd48453b5397bb6fd2c": {
          "model_module": "@jupyter-widgets/controls",
          "model_name": "DescriptionStyleModel",
          "model_module_version": "1.5.0",
          "state": {
            "_model_module": "@jupyter-widgets/controls",
            "_model_module_version": "1.5.0",
            "_model_name": "DescriptionStyleModel",
            "_view_count": null,
            "_view_module": "@jupyter-widgets/base",
            "_view_module_version": "1.2.0",
            "_view_name": "StyleView",
            "description_width": ""
          }
        },
        "22e112349a324c5cb91f557da40bc668": {
          "model_module": "@jupyter-widgets/base",
          "model_name": "LayoutModel",
          "model_module_version": "1.2.0",
          "state": {
            "_model_module": "@jupyter-widgets/base",
            "_model_module_version": "1.2.0",
            "_model_name": "LayoutModel",
            "_view_count": null,
            "_view_module": "@jupyter-widgets/base",
            "_view_module_version": "1.2.0",
            "_view_name": "LayoutView",
            "align_content": null,
            "align_items": null,
            "align_self": null,
            "border": null,
            "bottom": null,
            "display": null,
            "flex": null,
            "flex_flow": null,
            "grid_area": null,
            "grid_auto_columns": null,
            "grid_auto_flow": null,
            "grid_auto_rows": null,
            "grid_column": null,
            "grid_gap": null,
            "grid_row": null,
            "grid_template_areas": null,
            "grid_template_columns": null,
            "grid_template_rows": null,
            "height": null,
            "justify_content": null,
            "justify_items": null,
            "left": null,
            "margin": null,
            "max_height": null,
            "max_width": null,
            "min_height": null,
            "min_width": null,
            "object_fit": null,
            "object_position": null,
            "order": null,
            "overflow": null,
            "overflow_x": null,
            "overflow_y": null,
            "padding": null,
            "right": null,
            "top": null,
            "visibility": null,
            "width": null
          }
        },
        "36bc8aa33a9646bbb26f6d663fcedfdf": {
          "model_module": "@jupyter-widgets/controls",
          "model_name": "ProgressStyleModel",
          "model_module_version": "1.5.0",
          "state": {
            "_model_module": "@jupyter-widgets/controls",
            "_model_module_version": "1.5.0",
            "_model_name": "ProgressStyleModel",
            "_view_count": null,
            "_view_module": "@jupyter-widgets/base",
            "_view_module_version": "1.2.0",
            "_view_name": "StyleView",
            "bar_color": null,
            "description_width": ""
          }
        },
        "321492f287964831bfecf45f4b721abf": {
          "model_module": "@jupyter-widgets/base",
          "model_name": "LayoutModel",
          "model_module_version": "1.2.0",
          "state": {
            "_model_module": "@jupyter-widgets/base",
            "_model_module_version": "1.2.0",
            "_model_name": "LayoutModel",
            "_view_count": null,
            "_view_module": "@jupyter-widgets/base",
            "_view_module_version": "1.2.0",
            "_view_name": "LayoutView",
            "align_content": null,
            "align_items": null,
            "align_self": null,
            "border": null,
            "bottom": null,
            "display": null,
            "flex": null,
            "flex_flow": null,
            "grid_area": null,
            "grid_auto_columns": null,
            "grid_auto_flow": null,
            "grid_auto_rows": null,
            "grid_column": null,
            "grid_gap": null,
            "grid_row": null,
            "grid_template_areas": null,
            "grid_template_columns": null,
            "grid_template_rows": null,
            "height": null,
            "justify_content": null,
            "justify_items": null,
            "left": null,
            "margin": null,
            "max_height": null,
            "max_width": null,
            "min_height": null,
            "min_width": null,
            "object_fit": null,
            "object_position": null,
            "order": null,
            "overflow": null,
            "overflow_x": null,
            "overflow_y": null,
            "padding": null,
            "right": null,
            "top": null,
            "visibility": null,
            "width": null
          }
        },
        "7e1dc002bf494031bcd0a7d496d47492": {
          "model_module": "@jupyter-widgets/controls",
          "model_name": "DescriptionStyleModel",
          "model_module_version": "1.5.0",
          "state": {
            "_model_module": "@jupyter-widgets/controls",
            "_model_module_version": "1.5.0",
            "_model_name": "DescriptionStyleModel",
            "_view_count": null,
            "_view_module": "@jupyter-widgets/base",
            "_view_module_version": "1.2.0",
            "_view_name": "StyleView",
            "description_width": ""
          }
        },
        "cb17b126981040e4bd1f5fa99204df2c": {
          "model_module": "@jupyter-widgets/controls",
          "model_name": "HBoxModel",
          "model_module_version": "1.5.0",
          "state": {
            "_dom_classes": [],
            "_model_module": "@jupyter-widgets/controls",
            "_model_module_version": "1.5.0",
            "_model_name": "HBoxModel",
            "_view_count": null,
            "_view_module": "@jupyter-widgets/controls",
            "_view_module_version": "1.5.0",
            "_view_name": "HBoxView",
            "box_style": "",
            "children": [
              "IPY_MODEL_4b7186b92434495a918ae8525a5b5f29",
              "IPY_MODEL_92d8c99d73e445efbe4d2f72df0af923",
              "IPY_MODEL_fc8bd185ba9a47068c15cda3c0364066"
            ],
            "layout": "IPY_MODEL_7b5de76a91834df89afc90f65016f73e"
          }
        },
        "4b7186b92434495a918ae8525a5b5f29": {
          "model_module": "@jupyter-widgets/controls",
          "model_name": "HTMLModel",
          "model_module_version": "1.5.0",
          "state": {
            "_dom_classes": [],
            "_model_module": "@jupyter-widgets/controls",
            "_model_module_version": "1.5.0",
            "_model_name": "HTMLModel",
            "_view_count": null,
            "_view_module": "@jupyter-widgets/controls",
            "_view_module_version": "1.5.0",
            "_view_name": "HTMLView",
            "description": "",
            "description_tooltip": null,
            "layout": "IPY_MODEL_d047c061c8cd493981832490411cf7d0",
            "placeholder": "​",
            "style": "IPY_MODEL_b9de249b1f9447aa800a4647800e3783",
            "value": "100%"
          }
        },
        "92d8c99d73e445efbe4d2f72df0af923": {
          "model_module": "@jupyter-widgets/controls",
          "model_name": "FloatProgressModel",
          "model_module_version": "1.5.0",
          "state": {
            "_dom_classes": [],
            "_model_module": "@jupyter-widgets/controls",
            "_model_module_version": "1.5.0",
            "_model_name": "FloatProgressModel",
            "_view_count": null,
            "_view_module": "@jupyter-widgets/controls",
            "_view_module_version": "1.5.0",
            "_view_name": "ProgressView",
            "bar_style": "success",
            "description": "",
            "description_tooltip": null,
            "layout": "IPY_MODEL_91b6137e6d2b48b58bc646042de3a7bb",
            "max": 420442,
            "min": 0,
            "orientation": "horizontal",
            "style": "IPY_MODEL_10ccb45baa5e42649c74fd2f89262736",
            "value": 420442
          }
        },
        "fc8bd185ba9a47068c15cda3c0364066": {
          "model_module": "@jupyter-widgets/controls",
          "model_name": "HTMLModel",
          "model_module_version": "1.5.0",
          "state": {
            "_dom_classes": [],
            "_model_module": "@jupyter-widgets/controls",
            "_model_module_version": "1.5.0",
            "_model_name": "HTMLModel",
            "_view_count": null,
            "_view_module": "@jupyter-widgets/controls",
            "_view_module_version": "1.5.0",
            "_view_name": "HTMLView",
            "description": "",
            "description_tooltip": null,
            "layout": "IPY_MODEL_21a4819516d147a0886d139c4c38b14d",
            "placeholder": "​",
            "style": "IPY_MODEL_653bf76aabf844719871b45f30e65b89",
            "value": " 420442/420442 [03:15&lt;00:00, 2596.68it/s]"
          }
        },
        "7b5de76a91834df89afc90f65016f73e": {
          "model_module": "@jupyter-widgets/base",
          "model_name": "LayoutModel",
          "model_module_version": "1.2.0",
          "state": {
            "_model_module": "@jupyter-widgets/base",
            "_model_module_version": "1.2.0",
            "_model_name": "LayoutModel",
            "_view_count": null,
            "_view_module": "@jupyter-widgets/base",
            "_view_module_version": "1.2.0",
            "_view_name": "LayoutView",
            "align_content": null,
            "align_items": null,
            "align_self": null,
            "border": null,
            "bottom": null,
            "display": null,
            "flex": null,
            "flex_flow": null,
            "grid_area": null,
            "grid_auto_columns": null,
            "grid_auto_flow": null,
            "grid_auto_rows": null,
            "grid_column": null,
            "grid_gap": null,
            "grid_row": null,
            "grid_template_areas": null,
            "grid_template_columns": null,
            "grid_template_rows": null,
            "height": null,
            "justify_content": null,
            "justify_items": null,
            "left": null,
            "margin": null,
            "max_height": null,
            "max_width": null,
            "min_height": null,
            "min_width": null,
            "object_fit": null,
            "object_position": null,
            "order": null,
            "overflow": null,
            "overflow_x": null,
            "overflow_y": null,
            "padding": null,
            "right": null,
            "top": null,
            "visibility": null,
            "width": null
          }
        },
        "d047c061c8cd493981832490411cf7d0": {
          "model_module": "@jupyter-widgets/base",
          "model_name": "LayoutModel",
          "model_module_version": "1.2.0",
          "state": {
            "_model_module": "@jupyter-widgets/base",
            "_model_module_version": "1.2.0",
            "_model_name": "LayoutModel",
            "_view_count": null,
            "_view_module": "@jupyter-widgets/base",
            "_view_module_version": "1.2.0",
            "_view_name": "LayoutView",
            "align_content": null,
            "align_items": null,
            "align_self": null,
            "border": null,
            "bottom": null,
            "display": null,
            "flex": null,
            "flex_flow": null,
            "grid_area": null,
            "grid_auto_columns": null,
            "grid_auto_flow": null,
            "grid_auto_rows": null,
            "grid_column": null,
            "grid_gap": null,
            "grid_row": null,
            "grid_template_areas": null,
            "grid_template_columns": null,
            "grid_template_rows": null,
            "height": null,
            "justify_content": null,
            "justify_items": null,
            "left": null,
            "margin": null,
            "max_height": null,
            "max_width": null,
            "min_height": null,
            "min_width": null,
            "object_fit": null,
            "object_position": null,
            "order": null,
            "overflow": null,
            "overflow_x": null,
            "overflow_y": null,
            "padding": null,
            "right": null,
            "top": null,
            "visibility": null,
            "width": null
          }
        },
        "b9de249b1f9447aa800a4647800e3783": {
          "model_module": "@jupyter-widgets/controls",
          "model_name": "DescriptionStyleModel",
          "model_module_version": "1.5.0",
          "state": {
            "_model_module": "@jupyter-widgets/controls",
            "_model_module_version": "1.5.0",
            "_model_name": "DescriptionStyleModel",
            "_view_count": null,
            "_view_module": "@jupyter-widgets/base",
            "_view_module_version": "1.2.0",
            "_view_name": "StyleView",
            "description_width": ""
          }
        },
        "91b6137e6d2b48b58bc646042de3a7bb": {
          "model_module": "@jupyter-widgets/base",
          "model_name": "LayoutModel",
          "model_module_version": "1.2.0",
          "state": {
            "_model_module": "@jupyter-widgets/base",
            "_model_module_version": "1.2.0",
            "_model_name": "LayoutModel",
            "_view_count": null,
            "_view_module": "@jupyter-widgets/base",
            "_view_module_version": "1.2.0",
            "_view_name": "LayoutView",
            "align_content": null,
            "align_items": null,
            "align_self": null,
            "border": null,
            "bottom": null,
            "display": null,
            "flex": null,
            "flex_flow": null,
            "grid_area": null,
            "grid_auto_columns": null,
            "grid_auto_flow": null,
            "grid_auto_rows": null,
            "grid_column": null,
            "grid_gap": null,
            "grid_row": null,
            "grid_template_areas": null,
            "grid_template_columns": null,
            "grid_template_rows": null,
            "height": null,
            "justify_content": null,
            "justify_items": null,
            "left": null,
            "margin": null,
            "max_height": null,
            "max_width": null,
            "min_height": null,
            "min_width": null,
            "object_fit": null,
            "object_position": null,
            "order": null,
            "overflow": null,
            "overflow_x": null,
            "overflow_y": null,
            "padding": null,
            "right": null,
            "top": null,
            "visibility": null,
            "width": null
          }
        },
        "10ccb45baa5e42649c74fd2f89262736": {
          "model_module": "@jupyter-widgets/controls",
          "model_name": "ProgressStyleModel",
          "model_module_version": "1.5.0",
          "state": {
            "_model_module": "@jupyter-widgets/controls",
            "_model_module_version": "1.5.0",
            "_model_name": "ProgressStyleModel",
            "_view_count": null,
            "_view_module": "@jupyter-widgets/base",
            "_view_module_version": "1.2.0",
            "_view_name": "StyleView",
            "bar_color": null,
            "description_width": ""
          }
        },
        "21a4819516d147a0886d139c4c38b14d": {
          "model_module": "@jupyter-widgets/base",
          "model_name": "LayoutModel",
          "model_module_version": "1.2.0",
          "state": {
            "_model_module": "@jupyter-widgets/base",
            "_model_module_version": "1.2.0",
            "_model_name": "LayoutModel",
            "_view_count": null,
            "_view_module": "@jupyter-widgets/base",
            "_view_module_version": "1.2.0",
            "_view_name": "LayoutView",
            "align_content": null,
            "align_items": null,
            "align_self": null,
            "border": null,
            "bottom": null,
            "display": null,
            "flex": null,
            "flex_flow": null,
            "grid_area": null,
            "grid_auto_columns": null,
            "grid_auto_flow": null,
            "grid_auto_rows": null,
            "grid_column": null,
            "grid_gap": null,
            "grid_row": null,
            "grid_template_areas": null,
            "grid_template_columns": null,
            "grid_template_rows": null,
            "height": null,
            "justify_content": null,
            "justify_items": null,
            "left": null,
            "margin": null,
            "max_height": null,
            "max_width": null,
            "min_height": null,
            "min_width": null,
            "object_fit": null,
            "object_position": null,
            "order": null,
            "overflow": null,
            "overflow_x": null,
            "overflow_y": null,
            "padding": null,
            "right": null,
            "top": null,
            "visibility": null,
            "width": null
          }
        },
        "653bf76aabf844719871b45f30e65b89": {
          "model_module": "@jupyter-widgets/controls",
          "model_name": "DescriptionStyleModel",
          "model_module_version": "1.5.0",
          "state": {
            "_model_module": "@jupyter-widgets/controls",
            "_model_module_version": "1.5.0",
            "_model_name": "DescriptionStyleModel",
            "_view_count": null,
            "_view_module": "@jupyter-widgets/base",
            "_view_module_version": "1.2.0",
            "_view_name": "StyleView",
            "description_width": ""
          }
        },
        "1cfffb4c5c1c4ce6ba952d25b205524f": {
          "model_module": "@jupyter-widgets/controls",
          "model_name": "HBoxModel",
          "model_module_version": "1.5.0",
          "state": {
            "_dom_classes": [],
            "_model_module": "@jupyter-widgets/controls",
            "_model_module_version": "1.5.0",
            "_model_name": "HBoxModel",
            "_view_count": null,
            "_view_module": "@jupyter-widgets/controls",
            "_view_module_version": "1.5.0",
            "_view_name": "HBoxView",
            "box_style": "",
            "children": [
              "IPY_MODEL_e8753d11f5464304be11ef8831ae228d",
              "IPY_MODEL_c60bfa2c192a48438ab2ceffd94be222",
              "IPY_MODEL_e6dfb37c1a984f1783a8483839e003d4"
            ],
            "layout": "IPY_MODEL_a5212ed8a03a43ce8b6580dea87bb12a"
          }
        },
        "e8753d11f5464304be11ef8831ae228d": {
          "model_module": "@jupyter-widgets/controls",
          "model_name": "HTMLModel",
          "model_module_version": "1.5.0",
          "state": {
            "_dom_classes": [],
            "_model_module": "@jupyter-widgets/controls",
            "_model_module_version": "1.5.0",
            "_model_name": "HTMLModel",
            "_view_count": null,
            "_view_module": "@jupyter-widgets/controls",
            "_view_module_version": "1.5.0",
            "_view_name": "HTMLView",
            "description": "",
            "description_tooltip": null,
            "layout": "IPY_MODEL_b51a7a8c9db44cad86cd1d67e6bdc1b6",
            "placeholder": "​",
            "style": "IPY_MODEL_09085837c9e94ebd8df5fecdc38d14b2",
            "value": "100%"
          }
        },
        "c60bfa2c192a48438ab2ceffd94be222": {
          "model_module": "@jupyter-widgets/controls",
          "model_name": "FloatProgressModel",
          "model_module_version": "1.5.0",
          "state": {
            "_dom_classes": [],
            "_model_module": "@jupyter-widgets/controls",
            "_model_module_version": "1.5.0",
            "_model_name": "FloatProgressModel",
            "_view_count": null,
            "_view_module": "@jupyter-widgets/controls",
            "_view_module_version": "1.5.0",
            "_view_name": "ProgressView",
            "bar_style": "success",
            "description": "",
            "description_tooltip": null,
            "layout": "IPY_MODEL_66f7c8b5063449ba81c356902f51693c",
            "max": 105111,
            "min": 0,
            "orientation": "horizontal",
            "style": "IPY_MODEL_1937dfa4ec674d7fafcfc1234b68478d",
            "value": 105111
          }
        },
        "e6dfb37c1a984f1783a8483839e003d4": {
          "model_module": "@jupyter-widgets/controls",
          "model_name": "HTMLModel",
          "model_module_version": "1.5.0",
          "state": {
            "_dom_classes": [],
            "_model_module": "@jupyter-widgets/controls",
            "_model_module_version": "1.5.0",
            "_model_name": "HTMLModel",
            "_view_count": null,
            "_view_module": "@jupyter-widgets/controls",
            "_view_module_version": "1.5.0",
            "_view_name": "HTMLView",
            "description": "",
            "description_tooltip": null,
            "layout": "IPY_MODEL_4a80014303fc440ba18f8ba8bb648af4",
            "placeholder": "​",
            "style": "IPY_MODEL_d5ae720f8aa44ba7a269f16adcd0de39",
            "value": " 105111/105111 [13:24&lt;00:00, 162.22it/s]"
          }
        },
        "a5212ed8a03a43ce8b6580dea87bb12a": {
          "model_module": "@jupyter-widgets/base",
          "model_name": "LayoutModel",
          "model_module_version": "1.2.0",
          "state": {
            "_model_module": "@jupyter-widgets/base",
            "_model_module_version": "1.2.0",
            "_model_name": "LayoutModel",
            "_view_count": null,
            "_view_module": "@jupyter-widgets/base",
            "_view_module_version": "1.2.0",
            "_view_name": "LayoutView",
            "align_content": null,
            "align_items": null,
            "align_self": null,
            "border": null,
            "bottom": null,
            "display": null,
            "flex": null,
            "flex_flow": null,
            "grid_area": null,
            "grid_auto_columns": null,
            "grid_auto_flow": null,
            "grid_auto_rows": null,
            "grid_column": null,
            "grid_gap": null,
            "grid_row": null,
            "grid_template_areas": null,
            "grid_template_columns": null,
            "grid_template_rows": null,
            "height": null,
            "justify_content": null,
            "justify_items": null,
            "left": null,
            "margin": null,
            "max_height": null,
            "max_width": null,
            "min_height": null,
            "min_width": null,
            "object_fit": null,
            "object_position": null,
            "order": null,
            "overflow": null,
            "overflow_x": null,
            "overflow_y": null,
            "padding": null,
            "right": null,
            "top": null,
            "visibility": null,
            "width": null
          }
        },
        "b51a7a8c9db44cad86cd1d67e6bdc1b6": {
          "model_module": "@jupyter-widgets/base",
          "model_name": "LayoutModel",
          "model_module_version": "1.2.0",
          "state": {
            "_model_module": "@jupyter-widgets/base",
            "_model_module_version": "1.2.0",
            "_model_name": "LayoutModel",
            "_view_count": null,
            "_view_module": "@jupyter-widgets/base",
            "_view_module_version": "1.2.0",
            "_view_name": "LayoutView",
            "align_content": null,
            "align_items": null,
            "align_self": null,
            "border": null,
            "bottom": null,
            "display": null,
            "flex": null,
            "flex_flow": null,
            "grid_area": null,
            "grid_auto_columns": null,
            "grid_auto_flow": null,
            "grid_auto_rows": null,
            "grid_column": null,
            "grid_gap": null,
            "grid_row": null,
            "grid_template_areas": null,
            "grid_template_columns": null,
            "grid_template_rows": null,
            "height": null,
            "justify_content": null,
            "justify_items": null,
            "left": null,
            "margin": null,
            "max_height": null,
            "max_width": null,
            "min_height": null,
            "min_width": null,
            "object_fit": null,
            "object_position": null,
            "order": null,
            "overflow": null,
            "overflow_x": null,
            "overflow_y": null,
            "padding": null,
            "right": null,
            "top": null,
            "visibility": null,
            "width": null
          }
        },
        "09085837c9e94ebd8df5fecdc38d14b2": {
          "model_module": "@jupyter-widgets/controls",
          "model_name": "DescriptionStyleModel",
          "model_module_version": "1.5.0",
          "state": {
            "_model_module": "@jupyter-widgets/controls",
            "_model_module_version": "1.5.0",
            "_model_name": "DescriptionStyleModel",
            "_view_count": null,
            "_view_module": "@jupyter-widgets/base",
            "_view_module_version": "1.2.0",
            "_view_name": "StyleView",
            "description_width": ""
          }
        },
        "66f7c8b5063449ba81c356902f51693c": {
          "model_module": "@jupyter-widgets/base",
          "model_name": "LayoutModel",
          "model_module_version": "1.2.0",
          "state": {
            "_model_module": "@jupyter-widgets/base",
            "_model_module_version": "1.2.0",
            "_model_name": "LayoutModel",
            "_view_count": null,
            "_view_module": "@jupyter-widgets/base",
            "_view_module_version": "1.2.0",
            "_view_name": "LayoutView",
            "align_content": null,
            "align_items": null,
            "align_self": null,
            "border": null,
            "bottom": null,
            "display": null,
            "flex": null,
            "flex_flow": null,
            "grid_area": null,
            "grid_auto_columns": null,
            "grid_auto_flow": null,
            "grid_auto_rows": null,
            "grid_column": null,
            "grid_gap": null,
            "grid_row": null,
            "grid_template_areas": null,
            "grid_template_columns": null,
            "grid_template_rows": null,
            "height": null,
            "justify_content": null,
            "justify_items": null,
            "left": null,
            "margin": null,
            "max_height": null,
            "max_width": null,
            "min_height": null,
            "min_width": null,
            "object_fit": null,
            "object_position": null,
            "order": null,
            "overflow": null,
            "overflow_x": null,
            "overflow_y": null,
            "padding": null,
            "right": null,
            "top": null,
            "visibility": null,
            "width": null
          }
        },
        "1937dfa4ec674d7fafcfc1234b68478d": {
          "model_module": "@jupyter-widgets/controls",
          "model_name": "ProgressStyleModel",
          "model_module_version": "1.5.0",
          "state": {
            "_model_module": "@jupyter-widgets/controls",
            "_model_module_version": "1.5.0",
            "_model_name": "ProgressStyleModel",
            "_view_count": null,
            "_view_module": "@jupyter-widgets/base",
            "_view_module_version": "1.2.0",
            "_view_name": "StyleView",
            "bar_color": null,
            "description_width": ""
          }
        },
        "4a80014303fc440ba18f8ba8bb648af4": {
          "model_module": "@jupyter-widgets/base",
          "model_name": "LayoutModel",
          "model_module_version": "1.2.0",
          "state": {
            "_model_module": "@jupyter-widgets/base",
            "_model_module_version": "1.2.0",
            "_model_name": "LayoutModel",
            "_view_count": null,
            "_view_module": "@jupyter-widgets/base",
            "_view_module_version": "1.2.0",
            "_view_name": "LayoutView",
            "align_content": null,
            "align_items": null,
            "align_self": null,
            "border": null,
            "bottom": null,
            "display": null,
            "flex": null,
            "flex_flow": null,
            "grid_area": null,
            "grid_auto_columns": null,
            "grid_auto_flow": null,
            "grid_auto_rows": null,
            "grid_column": null,
            "grid_gap": null,
            "grid_row": null,
            "grid_template_areas": null,
            "grid_template_columns": null,
            "grid_template_rows": null,
            "height": null,
            "justify_content": null,
            "justify_items": null,
            "left": null,
            "margin": null,
            "max_height": null,
            "max_width": null,
            "min_height": null,
            "min_width": null,
            "object_fit": null,
            "object_position": null,
            "order": null,
            "overflow": null,
            "overflow_x": null,
            "overflow_y": null,
            "padding": null,
            "right": null,
            "top": null,
            "visibility": null,
            "width": null
          }
        },
        "d5ae720f8aa44ba7a269f16adcd0de39": {
          "model_module": "@jupyter-widgets/controls",
          "model_name": "DescriptionStyleModel",
          "model_module_version": "1.5.0",
          "state": {
            "_model_module": "@jupyter-widgets/controls",
            "_model_module_version": "1.5.0",
            "_model_name": "DescriptionStyleModel",
            "_view_count": null,
            "_view_module": "@jupyter-widgets/base",
            "_view_module_version": "1.2.0",
            "_view_name": "StyleView",
            "description_width": ""
          }
        },
        "84d6ea242b1e46a485b28d8b0760c442": {
          "model_module": "@jupyter-widgets/controls",
          "model_name": "HBoxModel",
          "model_module_version": "1.5.0",
          "state": {
            "_dom_classes": [],
            "_model_module": "@jupyter-widgets/controls",
            "_model_module_version": "1.5.0",
            "_model_name": "HBoxModel",
            "_view_count": null,
            "_view_module": "@jupyter-widgets/controls",
            "_view_module_version": "1.5.0",
            "_view_name": "HBoxView",
            "box_style": "",
            "children": [
              "IPY_MODEL_59f412900c514e118b34c06470084d53",
              "IPY_MODEL_584ab1f862a345cb980b09765c32754f",
              "IPY_MODEL_f8993cc7bbf84762b9f3cf6196b908f1"
            ],
            "layout": "IPY_MODEL_41c547d0ced24a348796f4709b08a974"
          }
        },
        "59f412900c514e118b34c06470084d53": {
          "model_module": "@jupyter-widgets/controls",
          "model_name": "HTMLModel",
          "model_module_version": "1.5.0",
          "state": {
            "_dom_classes": [],
            "_model_module": "@jupyter-widgets/controls",
            "_model_module_version": "1.5.0",
            "_model_name": "HTMLModel",
            "_view_count": null,
            "_view_module": "@jupyter-widgets/controls",
            "_view_module_version": "1.5.0",
            "_view_name": "HTMLView",
            "description": "",
            "description_tooltip": null,
            "layout": "IPY_MODEL_b9873540d24d454781b9a7a0f46bf337",
            "placeholder": "​",
            "style": "IPY_MODEL_7c0b258ae80a4c4381b1bde1bd1a1563",
            "value": "100%"
          }
        },
        "584ab1f862a345cb980b09765c32754f": {
          "model_module": "@jupyter-widgets/controls",
          "model_name": "FloatProgressModel",
          "model_module_version": "1.5.0",
          "state": {
            "_dom_classes": [],
            "_model_module": "@jupyter-widgets/controls",
            "_model_module_version": "1.5.0",
            "_model_name": "FloatProgressModel",
            "_view_count": null,
            "_view_module": "@jupyter-widgets/controls",
            "_view_module_version": "1.5.0",
            "_view_name": "ProgressView",
            "bar_style": "success",
            "description": "",
            "description_tooltip": null,
            "layout": "IPY_MODEL_2a5bf1eb4a8b4a01869fb923ef7c155e",
            "max": 105111,
            "min": 0,
            "orientation": "horizontal",
            "style": "IPY_MODEL_9a360dd490074befbd5449e3b5dc51d8",
            "value": 105111
          }
        },
        "f8993cc7bbf84762b9f3cf6196b908f1": {
          "model_module": "@jupyter-widgets/controls",
          "model_name": "HTMLModel",
          "model_module_version": "1.5.0",
          "state": {
            "_dom_classes": [],
            "_model_module": "@jupyter-widgets/controls",
            "_model_module_version": "1.5.0",
            "_model_name": "HTMLModel",
            "_view_count": null,
            "_view_module": "@jupyter-widgets/controls",
            "_view_module_version": "1.5.0",
            "_view_name": "HTMLView",
            "description": "",
            "description_tooltip": null,
            "layout": "IPY_MODEL_478c33e268ac419bbcb3b902200c84cc",
            "placeholder": "​",
            "style": "IPY_MODEL_92f5ef55f9844189aa793dcdd9b54c93",
            "value": " 105111/105111 [00:48&lt;00:00, 1749.99it/s]"
          }
        },
        "41c547d0ced24a348796f4709b08a974": {
          "model_module": "@jupyter-widgets/base",
          "model_name": "LayoutModel",
          "model_module_version": "1.2.0",
          "state": {
            "_model_module": "@jupyter-widgets/base",
            "_model_module_version": "1.2.0",
            "_model_name": "LayoutModel",
            "_view_count": null,
            "_view_module": "@jupyter-widgets/base",
            "_view_module_version": "1.2.0",
            "_view_name": "LayoutView",
            "align_content": null,
            "align_items": null,
            "align_self": null,
            "border": null,
            "bottom": null,
            "display": null,
            "flex": null,
            "flex_flow": null,
            "grid_area": null,
            "grid_auto_columns": null,
            "grid_auto_flow": null,
            "grid_auto_rows": null,
            "grid_column": null,
            "grid_gap": null,
            "grid_row": null,
            "grid_template_areas": null,
            "grid_template_columns": null,
            "grid_template_rows": null,
            "height": null,
            "justify_content": null,
            "justify_items": null,
            "left": null,
            "margin": null,
            "max_height": null,
            "max_width": null,
            "min_height": null,
            "min_width": null,
            "object_fit": null,
            "object_position": null,
            "order": null,
            "overflow": null,
            "overflow_x": null,
            "overflow_y": null,
            "padding": null,
            "right": null,
            "top": null,
            "visibility": null,
            "width": null
          }
        },
        "b9873540d24d454781b9a7a0f46bf337": {
          "model_module": "@jupyter-widgets/base",
          "model_name": "LayoutModel",
          "model_module_version": "1.2.0",
          "state": {
            "_model_module": "@jupyter-widgets/base",
            "_model_module_version": "1.2.0",
            "_model_name": "LayoutModel",
            "_view_count": null,
            "_view_module": "@jupyter-widgets/base",
            "_view_module_version": "1.2.0",
            "_view_name": "LayoutView",
            "align_content": null,
            "align_items": null,
            "align_self": null,
            "border": null,
            "bottom": null,
            "display": null,
            "flex": null,
            "flex_flow": null,
            "grid_area": null,
            "grid_auto_columns": null,
            "grid_auto_flow": null,
            "grid_auto_rows": null,
            "grid_column": null,
            "grid_gap": null,
            "grid_row": null,
            "grid_template_areas": null,
            "grid_template_columns": null,
            "grid_template_rows": null,
            "height": null,
            "justify_content": null,
            "justify_items": null,
            "left": null,
            "margin": null,
            "max_height": null,
            "max_width": null,
            "min_height": null,
            "min_width": null,
            "object_fit": null,
            "object_position": null,
            "order": null,
            "overflow": null,
            "overflow_x": null,
            "overflow_y": null,
            "padding": null,
            "right": null,
            "top": null,
            "visibility": null,
            "width": null
          }
        },
        "7c0b258ae80a4c4381b1bde1bd1a1563": {
          "model_module": "@jupyter-widgets/controls",
          "model_name": "DescriptionStyleModel",
          "model_module_version": "1.5.0",
          "state": {
            "_model_module": "@jupyter-widgets/controls",
            "_model_module_version": "1.5.0",
            "_model_name": "DescriptionStyleModel",
            "_view_count": null,
            "_view_module": "@jupyter-widgets/base",
            "_view_module_version": "1.2.0",
            "_view_name": "StyleView",
            "description_width": ""
          }
        },
        "2a5bf1eb4a8b4a01869fb923ef7c155e": {
          "model_module": "@jupyter-widgets/base",
          "model_name": "LayoutModel",
          "model_module_version": "1.2.0",
          "state": {
            "_model_module": "@jupyter-widgets/base",
            "_model_module_version": "1.2.0",
            "_model_name": "LayoutModel",
            "_view_count": null,
            "_view_module": "@jupyter-widgets/base",
            "_view_module_version": "1.2.0",
            "_view_name": "LayoutView",
            "align_content": null,
            "align_items": null,
            "align_self": null,
            "border": null,
            "bottom": null,
            "display": null,
            "flex": null,
            "flex_flow": null,
            "grid_area": null,
            "grid_auto_columns": null,
            "grid_auto_flow": null,
            "grid_auto_rows": null,
            "grid_column": null,
            "grid_gap": null,
            "grid_row": null,
            "grid_template_areas": null,
            "grid_template_columns": null,
            "grid_template_rows": null,
            "height": null,
            "justify_content": null,
            "justify_items": null,
            "left": null,
            "margin": null,
            "max_height": null,
            "max_width": null,
            "min_height": null,
            "min_width": null,
            "object_fit": null,
            "object_position": null,
            "order": null,
            "overflow": null,
            "overflow_x": null,
            "overflow_y": null,
            "padding": null,
            "right": null,
            "top": null,
            "visibility": null,
            "width": null
          }
        },
        "9a360dd490074befbd5449e3b5dc51d8": {
          "model_module": "@jupyter-widgets/controls",
          "model_name": "ProgressStyleModel",
          "model_module_version": "1.5.0",
          "state": {
            "_model_module": "@jupyter-widgets/controls",
            "_model_module_version": "1.5.0",
            "_model_name": "ProgressStyleModel",
            "_view_count": null,
            "_view_module": "@jupyter-widgets/base",
            "_view_module_version": "1.2.0",
            "_view_name": "StyleView",
            "bar_color": null,
            "description_width": ""
          }
        },
        "478c33e268ac419bbcb3b902200c84cc": {
          "model_module": "@jupyter-widgets/base",
          "model_name": "LayoutModel",
          "model_module_version": "1.2.0",
          "state": {
            "_model_module": "@jupyter-widgets/base",
            "_model_module_version": "1.2.0",
            "_model_name": "LayoutModel",
            "_view_count": null,
            "_view_module": "@jupyter-widgets/base",
            "_view_module_version": "1.2.0",
            "_view_name": "LayoutView",
            "align_content": null,
            "align_items": null,
            "align_self": null,
            "border": null,
            "bottom": null,
            "display": null,
            "flex": null,
            "flex_flow": null,
            "grid_area": null,
            "grid_auto_columns": null,
            "grid_auto_flow": null,
            "grid_auto_rows": null,
            "grid_column": null,
            "grid_gap": null,
            "grid_row": null,
            "grid_template_areas": null,
            "grid_template_columns": null,
            "grid_template_rows": null,
            "height": null,
            "justify_content": null,
            "justify_items": null,
            "left": null,
            "margin": null,
            "max_height": null,
            "max_width": null,
            "min_height": null,
            "min_width": null,
            "object_fit": null,
            "object_position": null,
            "order": null,
            "overflow": null,
            "overflow_x": null,
            "overflow_y": null,
            "padding": null,
            "right": null,
            "top": null,
            "visibility": null,
            "width": null
          }
        },
        "92f5ef55f9844189aa793dcdd9b54c93": {
          "model_module": "@jupyter-widgets/controls",
          "model_name": "DescriptionStyleModel",
          "model_module_version": "1.5.0",
          "state": {
            "_model_module": "@jupyter-widgets/controls",
            "_model_module_version": "1.5.0",
            "_model_name": "DescriptionStyleModel",
            "_view_count": null,
            "_view_module": "@jupyter-widgets/base",
            "_view_module_version": "1.2.0",
            "_view_name": "StyleView",
            "description_width": ""
          }
        }
      }
    }
  },
  "nbformat": 4,
  "nbformat_minor": 0
}