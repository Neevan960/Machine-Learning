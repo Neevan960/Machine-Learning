{
 "cells": [
  {
   "cell_type": "code",
   "execution_count": 1,
   "id": "2fee5b5f",
   "metadata": {},
   "outputs": [],
   "source": [
    "import pandas as pd\n",
    "import numpy as np\n",
    "import seaborn as sns\n",
    "import sklearn\n",
    "import matplotlib.pyplot as plt\n",
    "import warnings\n",
    "warnings.filterwarnings(\"ignore\")"
   ]
  },
  {
   "cell_type": "code",
   "execution_count": 2,
   "id": "648fde10",
   "metadata": {},
   "outputs": [],
   "source": [
    "df=pd.read_csv(\"churn_dataset.csv\")"
   ]
  },
  {
   "cell_type": "code",
   "execution_count": 3,
   "id": "447a43f3",
   "metadata": {},
   "outputs": [
    {
     "data": {
      "text/html": [
       "<div>\n",
       "<style scoped>\n",
       "    .dataframe tbody tr th:only-of-type {\n",
       "        vertical-align: middle;\n",
       "    }\n",
       "\n",
       "    .dataframe tbody tr th {\n",
       "        vertical-align: top;\n",
       "    }\n",
       "\n",
       "    .dataframe thead th {\n",
       "        text-align: right;\n",
       "    }\n",
       "</style>\n",
       "<table border=\"1\" class=\"dataframe\">\n",
       "  <thead>\n",
       "    <tr style=\"text-align: right;\">\n",
       "      <th></th>\n",
       "      <th>customerID</th>\n",
       "      <th>gender</th>\n",
       "      <th>SeniorCitizen</th>\n",
       "      <th>Partner</th>\n",
       "      <th>Dependents</th>\n",
       "      <th>tenure</th>\n",
       "      <th>PhoneService</th>\n",
       "      <th>MultipleLines</th>\n",
       "      <th>InternetService</th>\n",
       "      <th>OnlineSecurity</th>\n",
       "      <th>...</th>\n",
       "      <th>DeviceProtection</th>\n",
       "      <th>TechSupport</th>\n",
       "      <th>StreamingTV</th>\n",
       "      <th>StreamingMovies</th>\n",
       "      <th>Contract</th>\n",
       "      <th>PaperlessBilling</th>\n",
       "      <th>PaymentMethod</th>\n",
       "      <th>MonthlyCharges</th>\n",
       "      <th>TotalCharges</th>\n",
       "      <th>Churn</th>\n",
       "    </tr>\n",
       "  </thead>\n",
       "  <tbody>\n",
       "    <tr>\n",
       "      <th>0</th>\n",
       "      <td>7590-VHVEG</td>\n",
       "      <td>Female</td>\n",
       "      <td>0</td>\n",
       "      <td>Yes</td>\n",
       "      <td>No</td>\n",
       "      <td>1</td>\n",
       "      <td>No</td>\n",
       "      <td>No phone service</td>\n",
       "      <td>DSL</td>\n",
       "      <td>No</td>\n",
       "      <td>...</td>\n",
       "      <td>No</td>\n",
       "      <td>No</td>\n",
       "      <td>No</td>\n",
       "      <td>No</td>\n",
       "      <td>Month-to-month</td>\n",
       "      <td>Yes</td>\n",
       "      <td>Electronic check</td>\n",
       "      <td>29.85</td>\n",
       "      <td>29.85</td>\n",
       "      <td>No</td>\n",
       "    </tr>\n",
       "    <tr>\n",
       "      <th>1</th>\n",
       "      <td>5575-GNVDE</td>\n",
       "      <td>Male</td>\n",
       "      <td>0</td>\n",
       "      <td>No</td>\n",
       "      <td>No</td>\n",
       "      <td>34</td>\n",
       "      <td>Yes</td>\n",
       "      <td>No</td>\n",
       "      <td>DSL</td>\n",
       "      <td>Yes</td>\n",
       "      <td>...</td>\n",
       "      <td>Yes</td>\n",
       "      <td>No</td>\n",
       "      <td>No</td>\n",
       "      <td>No</td>\n",
       "      <td>One year</td>\n",
       "      <td>No</td>\n",
       "      <td>Mailed check</td>\n",
       "      <td>56.95</td>\n",
       "      <td>1889.5</td>\n",
       "      <td>No</td>\n",
       "    </tr>\n",
       "    <tr>\n",
       "      <th>2</th>\n",
       "      <td>3668-QPYBK</td>\n",
       "      <td>Male</td>\n",
       "      <td>0</td>\n",
       "      <td>No</td>\n",
       "      <td>No</td>\n",
       "      <td>2</td>\n",
       "      <td>Yes</td>\n",
       "      <td>No</td>\n",
       "      <td>DSL</td>\n",
       "      <td>Yes</td>\n",
       "      <td>...</td>\n",
       "      <td>No</td>\n",
       "      <td>No</td>\n",
       "      <td>No</td>\n",
       "      <td>No</td>\n",
       "      <td>Month-to-month</td>\n",
       "      <td>Yes</td>\n",
       "      <td>Mailed check</td>\n",
       "      <td>53.85</td>\n",
       "      <td>108.15</td>\n",
       "      <td>Yes</td>\n",
       "    </tr>\n",
       "    <tr>\n",
       "      <th>3</th>\n",
       "      <td>7795-CFOCW</td>\n",
       "      <td>Male</td>\n",
       "      <td>0</td>\n",
       "      <td>No</td>\n",
       "      <td>No</td>\n",
       "      <td>45</td>\n",
       "      <td>No</td>\n",
       "      <td>No phone service</td>\n",
       "      <td>DSL</td>\n",
       "      <td>Yes</td>\n",
       "      <td>...</td>\n",
       "      <td>Yes</td>\n",
       "      <td>Yes</td>\n",
       "      <td>No</td>\n",
       "      <td>No</td>\n",
       "      <td>One year</td>\n",
       "      <td>No</td>\n",
       "      <td>Bank transfer (automatic)</td>\n",
       "      <td>42.30</td>\n",
       "      <td>1840.75</td>\n",
       "      <td>No</td>\n",
       "    </tr>\n",
       "    <tr>\n",
       "      <th>4</th>\n",
       "      <td>9237-HQITU</td>\n",
       "      <td>Female</td>\n",
       "      <td>0</td>\n",
       "      <td>No</td>\n",
       "      <td>No</td>\n",
       "      <td>2</td>\n",
       "      <td>Yes</td>\n",
       "      <td>No</td>\n",
       "      <td>Fiber optic</td>\n",
       "      <td>No</td>\n",
       "      <td>...</td>\n",
       "      <td>No</td>\n",
       "      <td>No</td>\n",
       "      <td>No</td>\n",
       "      <td>No</td>\n",
       "      <td>Month-to-month</td>\n",
       "      <td>Yes</td>\n",
       "      <td>Electronic check</td>\n",
       "      <td>70.70</td>\n",
       "      <td>151.65</td>\n",
       "      <td>Yes</td>\n",
       "    </tr>\n",
       "  </tbody>\n",
       "</table>\n",
       "<p>5 rows × 21 columns</p>\n",
       "</div>"
      ],
      "text/plain": [
       "   customerID  gender  SeniorCitizen Partner Dependents  tenure PhoneService  \\\n",
       "0  7590-VHVEG  Female              0     Yes         No       1           No   \n",
       "1  5575-GNVDE    Male              0      No         No      34          Yes   \n",
       "2  3668-QPYBK    Male              0      No         No       2          Yes   \n",
       "3  7795-CFOCW    Male              0      No         No      45           No   \n",
       "4  9237-HQITU  Female              0      No         No       2          Yes   \n",
       "\n",
       "      MultipleLines InternetService OnlineSecurity  ... DeviceProtection  \\\n",
       "0  No phone service             DSL             No  ...               No   \n",
       "1                No             DSL            Yes  ...              Yes   \n",
       "2                No             DSL            Yes  ...               No   \n",
       "3  No phone service             DSL            Yes  ...              Yes   \n",
       "4                No     Fiber optic             No  ...               No   \n",
       "\n",
       "  TechSupport StreamingTV StreamingMovies        Contract PaperlessBilling  \\\n",
       "0          No          No              No  Month-to-month              Yes   \n",
       "1          No          No              No        One year               No   \n",
       "2          No          No              No  Month-to-month              Yes   \n",
       "3         Yes          No              No        One year               No   \n",
       "4          No          No              No  Month-to-month              Yes   \n",
       "\n",
       "               PaymentMethod MonthlyCharges  TotalCharges Churn  \n",
       "0           Electronic check          29.85         29.85    No  \n",
       "1               Mailed check          56.95        1889.5    No  \n",
       "2               Mailed check          53.85        108.15   Yes  \n",
       "3  Bank transfer (automatic)          42.30       1840.75    No  \n",
       "4           Electronic check          70.70        151.65   Yes  \n",
       "\n",
       "[5 rows x 21 columns]"
      ]
     },
     "execution_count": 3,
     "metadata": {},
     "output_type": "execute_result"
    }
   ],
   "source": [
    "df.head()"
   ]
  },
  {
   "cell_type": "code",
   "execution_count": 4,
   "id": "4d425ae7",
   "metadata": {},
   "outputs": [],
   "source": [
    "df=df.drop(\"customerID\",axis=1)\n",
    "df.drop_duplicates(inplace=True)"
   ]
  },
  {
   "cell_type": "code",
   "execution_count": 5,
   "id": "ed7c7f5a",
   "metadata": {},
   "outputs": [],
   "source": [
    "df[\"TotalCharges\"].replace(\" \",np.nan,inplace=True)\n",
    "df[\"TotalCharges\"]=df[\"TotalCharges\"].astype(\"float\")"
   ]
  },
  {
   "cell_type": "code",
   "execution_count": 6,
   "id": "49c850a5",
   "metadata": {},
   "outputs": [],
   "source": [
    "a=df.select_dtypes(include=\"object\").columns\n",
    "b=df.select_dtypes(include=[\"int\",\"float\"]).columns"
   ]
  },
  {
   "cell_type": "code",
   "execution_count": 7,
   "id": "9239eda0",
   "metadata": {
    "scrolled": false
   },
   "outputs": [
    {
     "data": {
      "text/plain": [
       "Index(['SeniorCitizen', 'tenure', 'MonthlyCharges', 'TotalCharges'], dtype='object')"
      ]
     },
     "execution_count": 7,
     "metadata": {},
     "output_type": "execute_result"
    }
   ],
   "source": [
    "b"
   ]
  },
  {
   "cell_type": "code",
   "execution_count": 8,
   "id": "d137017c",
   "metadata": {},
   "outputs": [],
   "source": [
    "out=['SeniorCitizen', 'tenure', 'MonthlyCharges', 'TotalCharges']"
   ]
  },
  {
   "cell_type": "code",
   "execution_count": 9,
   "id": "1d877cf0",
   "metadata": {},
   "outputs": [
    {
     "data": {
      "image/png": "[encoded data removed]",
      "text/plain": [
       "<Figure size 432x288 with 1 Axes>"
      ]
     },
     "metadata": {
      "needs_background": "light"
     },
     "output_type": "display_data"
    },
    {
     "data": {
      "image/png": "[encoded data removed]",
      "text/plain": [
       "<Figure size 432x288 with 1 Axes>"
      ]
     },
     "metadata": {
      "needs_background": "light"
     },
     "output_type": "display_data"
    },
    {
     "data": {
      "image/png": "[encoded data removed]",
      "text/plain": [
       "<Figure size 432x288 with 1 Axes>"
      ]
     },
     "metadata": {
      "needs_background": "light"
     },
     "output_type": "display_data"
    },
    {
     "data": {
      "image/png": "[encoded data removed]",
      "text/plain": [
       "<Figure size 432x288 with 1 Axes>"
      ]
     },
     "metadata": {
      "needs_background": "light"
     },
     "output_type": "display_data"
    }
   ],
   "source": [
    "for i in out:\n",
    "    sns.boxplot(df[i])\n",
    "    plt.show()"
   ]
  },
  {
   "cell_type": "markdown",
   "id": "45420121",
   "metadata": {},
   "source": [
    "# Imputing Null values with mean"
   ]
  },
  {
   "cell_type": "code",
   "execution_count": 10,
   "id": "a4b2a367",
   "metadata": {},
   "outputs": [
    {
     "data": {
      "text/plain": [
       "gender               0\n",
       "SeniorCitizen        0\n",
       "Partner              0\n",
       "Dependents           0\n",
       "tenure               0\n",
       "PhoneService         0\n",
       "MultipleLines        0\n",
       "InternetService      0\n",
       "OnlineSecurity       0\n",
       "OnlineBackup         0\n",
       "DeviceProtection     0\n",
       "TechSupport          0\n",
       "StreamingTV          0\n",
       "StreamingMovies      0\n",
       "Contract             0\n",
       "PaperlessBilling     0\n",
       "PaymentMethod        0\n",
       "MonthlyCharges       0\n",
       "TotalCharges        11\n",
       "Churn                0\n",
       "dtype: int64"
      ]
     },
     "execution_count": 10,
     "metadata": {},
     "output_type": "execute_result"
    }
   ],
   "source": [
    "df.isnull().sum()"
   ]
  },
  {
   "cell_type": "code",
   "execution_count": 11,
   "id": "e3946386",
   "metadata": {
    "scrolled": true
   },
   "outputs": [
    {
     "name": "stdout",
     "output_type": "stream",
     "text": [
      "mean of SeniorCitizen : 0.1625124626121635\n",
      "median of SeniorCitizen : 0.0\n",
      "mean of tenure : 32.46944879646774\n",
      "median of tenure : 29.0\n",
      "mean of MonthlyCharges : 64.8518943170489\n",
      "median of MonthlyCharges : 70.4\n",
      "mean of TotalCharges : 2290.353388017122\n",
      "median of TotalCharges : 1403.875\n"
     ]
    }
   ],
   "source": [
    "for i in out:\n",
    "    print(\"mean of {}\".format(i),\":\",df[i].mean())\n",
    "    print(\"median of {}\".format(i),\":\",df[i].median())"
   ]
  },
  {
   "cell_type": "code",
   "execution_count": 12,
   "id": "816cbd2c",
   "metadata": {},
   "outputs": [],
   "source": [
    "df.dropna(inplace=True)"
   ]
  },
  {
   "cell_type": "code",
   "execution_count": 13,
   "id": "cd416943",
   "metadata": {},
   "outputs": [
    {
     "data": {
      "text/plain": [
       "gender              0\n",
       "SeniorCitizen       0\n",
       "Partner             0\n",
       "Dependents          0\n",
       "tenure              0\n",
       "PhoneService        0\n",
       "MultipleLines       0\n",
       "InternetService     0\n",
       "OnlineSecurity      0\n",
       "OnlineBackup        0\n",
       "DeviceProtection    0\n",
       "TechSupport         0\n",
       "StreamingTV         0\n",
       "StreamingMovies     0\n",
       "Contract            0\n",
       "PaperlessBilling    0\n",
       "PaymentMethod       0\n",
       "MonthlyCharges      0\n",
       "TotalCharges        0\n",
       "Churn               0\n",
       "dtype: int64"
      ]
     },
     "execution_count": 13,
     "metadata": {},
     "output_type": "execute_result"
    }
   ],
   "source": [
    "df.isna().sum()"
   ]
  },
  {
   "cell_type": "code",
   "execution_count": 14,
   "id": "7bd8a294",
   "metadata": {},
   "outputs": [
    {
     "name": "stdout",
     "output_type": "stream",
     "text": [
      "<class 'pandas.core.frame.DataFrame'>\n",
      "Int64Index: 7010 entries, 0 to 7042\n",
      "Data columns (total 20 columns):\n",
      " #   Column            Non-Null Count  Dtype  \n",
      "---  ------            --------------  -----  \n",
      " 0   gender            7010 non-null   object \n",
      " 1   SeniorCitizen     7010 non-null   int64  \n",
      " 2   Partner           7010 non-null   object \n",
      " 3   Dependents        7010 non-null   object \n",
      " 4   tenure            7010 non-null   int64  \n",
      " 5   PhoneService      7010 non-null   object \n",
      " 6   MultipleLines     7010 non-null   object \n",
      " 7   InternetService   7010 non-null   object \n",
      " 8   OnlineSecurity    7010 non-null   object \n",
      " 9   OnlineBackup      7010 non-null   object \n",
      " 10  DeviceProtection  7010 non-null   object \n",
      " 11  TechSupport       7010 non-null   object \n",
      " 12  StreamingTV       7010 non-null   object \n",
      " 13  StreamingMovies   7010 non-null   object \n",
      " 14  Contract          7010 non-null   object \n",
      " 15  PaperlessBilling  7010 non-null   object \n",
      " 16  PaymentMethod     7010 non-null   object \n",
      " 17  MonthlyCharges    7010 non-null   float64\n",
      " 18  TotalCharges      7010 non-null   float64\n",
      " 19  Churn             7010 non-null   object \n",
      "dtypes: float64(2), int64(2), object(16)\n",
      "memory usage: 1.1+ MB\n"
     ]
    }
   ],
   "source": [
    "df.info()"
   ]
  },
  {
   "cell_type": "markdown",
   "id": "38058d81",
   "metadata": {},
   "source": [
    "# Step:1- Defining the input(X) and output(y) variables"
   ]
  },
  {
   "cell_type": "code",
   "execution_count": 15,
   "id": "a49c9f47",
   "metadata": {},
   "outputs": [],
   "source": [
    "X=df[[ 'gender', 'Partner', 'Dependents', 'PhoneService',\n",
    "       'MultipleLines', 'InternetService', 'OnlineSecurity', 'OnlineBackup',\n",
    "       'DeviceProtection', 'TechSupport', 'StreamingTV', 'StreamingMovies',\n",
    "       'Contract', 'PaperlessBilling', 'PaymentMethod', 'tenure', 'MonthlyCharges', 'TotalCharges']]\n",
    "y=df['Churn']"
   ]
  },
  {
   "cell_type": "markdown",
   "id": "230b9a84",
   "metadata": {},
   "source": [
    "# Step:2 - Splitting the data into train and test "
   ]
  },
  {
   "cell_type": "code",
   "execution_count": 16,
   "id": "9263f459",
   "metadata": {},
   "outputs": [],
   "source": [
    "from sklearn.model_selection import train_test_split\n",
    "X_train,X_test,y_train,y_test=train_test_split(X,y,test_size=0.25,random_state=42)"
   ]
  },
  {
   "cell_type": "markdown",
   "id": "7868f215",
   "metadata": {},
   "source": [
    "# Step:3 - Segregation of numericals and categorical columns and rescaling then using Standard Scaler ,Label Encoder and OneHotEncoding Transformation Techniques "
   ]
  },
  {
   "cell_type": "code",
   "execution_count": 17,
   "id": "3190b508",
   "metadata": {},
   "outputs": [],
   "source": [
    "X_train_num=X_train.select_dtypes(include=[\"int64\",\"float64\"])\n",
    "X_test_num=X_test.select_dtypes(include=[\"int64\",\"float64\"])\n",
    "X_train_cat=X_train.select_dtypes(include=\"object\")\n",
    "X_test_cat=X_test.select_dtypes(include=\"object\")\n"
   ]
  },
  {
   "cell_type": "markdown",
   "id": "72851626",
   "metadata": {},
   "source": [
    "# Step:3(i) -  Transformation of X_train_num & X_test_num using Standard Scaler "
   ]
  },
  {
   "cell_type": "code",
   "execution_count": 18,
   "id": "52829a1b",
   "metadata": {},
   "outputs": [],
   "source": [
    "from sklearn.preprocessing import StandardScaler\n",
    "scaler=StandardScaler()\n",
    "X_train_num_trans=pd.DataFrame(scaler.fit_transform(X_train_num),columns=X_train_num.columns,index=X_train_num.index)\n",
    "X_test_num_trans=pd.DataFrame(scaler.transform(X_test_num),columns=X_test_num.columns,index=X_test_num.index)"
   ]
  },
  {
   "cell_type": "markdown",
   "id": "d0dbaebc",
   "metadata": {},
   "source": [
    "# Step : 3(ii) - Transformation of X_train_cat & X_test_cat using OneHotEncoding"
   ]
  },
  {
   "cell_type": "code",
   "execution_count": 19,
   "id": "4dcf5bc0",
   "metadata": {},
   "outputs": [
    {
     "data": {
      "text/html": [
       "<div>\n",
       "<style scoped>\n",
       "    .dataframe tbody tr th:only-of-type {\n",
       "        vertical-align: middle;\n",
       "    }\n",
       "\n",
       "    .dataframe tbody tr th {\n",
       "        vertical-align: top;\n",
       "    }\n",
       "\n",
       "    .dataframe thead th {\n",
       "        text-align: right;\n",
       "    }\n",
       "</style>\n",
       "<table border=\"1\" class=\"dataframe\">\n",
       "  <thead>\n",
       "    <tr style=\"text-align: right;\">\n",
       "      <th></th>\n",
       "      <th>gender_Male</th>\n",
       "      <th>Partner_Yes</th>\n",
       "      <th>Dependents_Yes</th>\n",
       "      <th>PhoneService_Yes</th>\n",
       "      <th>MultipleLines_No phone service</th>\n",
       "      <th>MultipleLines_Yes</th>\n",
       "      <th>InternetService_Fiber optic</th>\n",
       "      <th>InternetService_No</th>\n",
       "      <th>OnlineSecurity_No internet service</th>\n",
       "      <th>OnlineSecurity_Yes</th>\n",
       "      <th>...</th>\n",
       "      <th>StreamingTV_No internet service</th>\n",
       "      <th>StreamingTV_Yes</th>\n",
       "      <th>StreamingMovies_No internet service</th>\n",
       "      <th>StreamingMovies_Yes</th>\n",
       "      <th>Contract_One year</th>\n",
       "      <th>Contract_Two year</th>\n",
       "      <th>PaperlessBilling_Yes</th>\n",
       "      <th>PaymentMethod_Credit card (automatic)</th>\n",
       "      <th>PaymentMethod_Electronic check</th>\n",
       "      <th>PaymentMethod_Mailed check</th>\n",
       "    </tr>\n",
       "  </thead>\n",
       "  <tbody>\n",
       "    <tr>\n",
       "      <th>5905</th>\n",
       "      <td>1.0</td>\n",
       "      <td>0.0</td>\n",
       "      <td>0.0</td>\n",
       "      <td>1.0</td>\n",
       "      <td>0.0</td>\n",
       "      <td>0.0</td>\n",
       "      <td>1.0</td>\n",
       "      <td>0.0</td>\n",
       "      <td>0.0</td>\n",
       "      <td>0.0</td>\n",
       "      <td>...</td>\n",
       "      <td>0.0</td>\n",
       "      <td>0.0</td>\n",
       "      <td>0.0</td>\n",
       "      <td>1.0</td>\n",
       "      <td>0.0</td>\n",
       "      <td>0.0</td>\n",
       "      <td>1.0</td>\n",
       "      <td>0.0</td>\n",
       "      <td>1.0</td>\n",
       "      <td>0.0</td>\n",
       "    </tr>\n",
       "    <tr>\n",
       "      <th>4389</th>\n",
       "      <td>1.0</td>\n",
       "      <td>0.0</td>\n",
       "      <td>0.0</td>\n",
       "      <td>1.0</td>\n",
       "      <td>0.0</td>\n",
       "      <td>1.0</td>\n",
       "      <td>1.0</td>\n",
       "      <td>0.0</td>\n",
       "      <td>0.0</td>\n",
       "      <td>1.0</td>\n",
       "      <td>...</td>\n",
       "      <td>0.0</td>\n",
       "      <td>1.0</td>\n",
       "      <td>0.0</td>\n",
       "      <td>1.0</td>\n",
       "      <td>0.0</td>\n",
       "      <td>0.0</td>\n",
       "      <td>1.0</td>\n",
       "      <td>0.0</td>\n",
       "      <td>0.0</td>\n",
       "      <td>0.0</td>\n",
       "    </tr>\n",
       "    <tr>\n",
       "      <th>1988</th>\n",
       "      <td>1.0</td>\n",
       "      <td>1.0</td>\n",
       "      <td>0.0</td>\n",
       "      <td>1.0</td>\n",
       "      <td>0.0</td>\n",
       "      <td>1.0</td>\n",
       "      <td>1.0</td>\n",
       "      <td>0.0</td>\n",
       "      <td>0.0</td>\n",
       "      <td>1.0</td>\n",
       "      <td>...</td>\n",
       "      <td>0.0</td>\n",
       "      <td>1.0</td>\n",
       "      <td>0.0</td>\n",
       "      <td>1.0</td>\n",
       "      <td>1.0</td>\n",
       "      <td>0.0</td>\n",
       "      <td>1.0</td>\n",
       "      <td>0.0</td>\n",
       "      <td>1.0</td>\n",
       "      <td>0.0</td>\n",
       "    </tr>\n",
       "    <tr>\n",
       "      <th>3194</th>\n",
       "      <td>0.0</td>\n",
       "      <td>1.0</td>\n",
       "      <td>0.0</td>\n",
       "      <td>0.0</td>\n",
       "      <td>1.0</td>\n",
       "      <td>0.0</td>\n",
       "      <td>0.0</td>\n",
       "      <td>0.0</td>\n",
       "      <td>0.0</td>\n",
       "      <td>0.0</td>\n",
       "      <td>...</td>\n",
       "      <td>0.0</td>\n",
       "      <td>1.0</td>\n",
       "      <td>0.0</td>\n",
       "      <td>1.0</td>\n",
       "      <td>0.0</td>\n",
       "      <td>0.0</td>\n",
       "      <td>0.0</td>\n",
       "      <td>1.0</td>\n",
       "      <td>0.0</td>\n",
       "      <td>0.0</td>\n",
       "    </tr>\n",
       "    <tr>\n",
       "      <th>3675</th>\n",
       "      <td>0.0</td>\n",
       "      <td>0.0</td>\n",
       "      <td>0.0</td>\n",
       "      <td>1.0</td>\n",
       "      <td>0.0</td>\n",
       "      <td>0.0</td>\n",
       "      <td>0.0</td>\n",
       "      <td>1.0</td>\n",
       "      <td>1.0</td>\n",
       "      <td>0.0</td>\n",
       "      <td>...</td>\n",
       "      <td>1.0</td>\n",
       "      <td>0.0</td>\n",
       "      <td>1.0</td>\n",
       "      <td>0.0</td>\n",
       "      <td>0.0</td>\n",
       "      <td>0.0</td>\n",
       "      <td>0.0</td>\n",
       "      <td>0.0</td>\n",
       "      <td>0.0</td>\n",
       "      <td>1.0</td>\n",
       "    </tr>\n",
       "    <tr>\n",
       "      <th>...</th>\n",
       "      <td>...</td>\n",
       "      <td>...</td>\n",
       "      <td>...</td>\n",
       "      <td>...</td>\n",
       "      <td>...</td>\n",
       "      <td>...</td>\n",
       "      <td>...</td>\n",
       "      <td>...</td>\n",
       "      <td>...</td>\n",
       "      <td>...</td>\n",
       "      <td>...</td>\n",
       "      <td>...</td>\n",
       "      <td>...</td>\n",
       "      <td>...</td>\n",
       "      <td>...</td>\n",
       "      <td>...</td>\n",
       "      <td>...</td>\n",
       "      <td>...</td>\n",
       "      <td>...</td>\n",
       "      <td>...</td>\n",
       "      <td>...</td>\n",
       "    </tr>\n",
       "    <tr>\n",
       "      <th>3787</th>\n",
       "      <td>0.0</td>\n",
       "      <td>0.0</td>\n",
       "      <td>0.0</td>\n",
       "      <td>1.0</td>\n",
       "      <td>0.0</td>\n",
       "      <td>0.0</td>\n",
       "      <td>1.0</td>\n",
       "      <td>0.0</td>\n",
       "      <td>0.0</td>\n",
       "      <td>0.0</td>\n",
       "      <td>...</td>\n",
       "      <td>0.0</td>\n",
       "      <td>1.0</td>\n",
       "      <td>0.0</td>\n",
       "      <td>1.0</td>\n",
       "      <td>0.0</td>\n",
       "      <td>0.0</td>\n",
       "      <td>1.0</td>\n",
       "      <td>0.0</td>\n",
       "      <td>1.0</td>\n",
       "      <td>0.0</td>\n",
       "    </tr>\n",
       "    <tr>\n",
       "      <th>5210</th>\n",
       "      <td>1.0</td>\n",
       "      <td>1.0</td>\n",
       "      <td>0.0</td>\n",
       "      <td>0.0</td>\n",
       "      <td>1.0</td>\n",
       "      <td>0.0</td>\n",
       "      <td>0.0</td>\n",
       "      <td>0.0</td>\n",
       "      <td>0.0</td>\n",
       "      <td>0.0</td>\n",
       "      <td>...</td>\n",
       "      <td>0.0</td>\n",
       "      <td>1.0</td>\n",
       "      <td>0.0</td>\n",
       "      <td>1.0</td>\n",
       "      <td>1.0</td>\n",
       "      <td>0.0</td>\n",
       "      <td>1.0</td>\n",
       "      <td>0.0</td>\n",
       "      <td>1.0</td>\n",
       "      <td>0.0</td>\n",
       "    </tr>\n",
       "    <tr>\n",
       "      <th>5246</th>\n",
       "      <td>0.0</td>\n",
       "      <td>0.0</td>\n",
       "      <td>0.0</td>\n",
       "      <td>1.0</td>\n",
       "      <td>0.0</td>\n",
       "      <td>0.0</td>\n",
       "      <td>1.0</td>\n",
       "      <td>0.0</td>\n",
       "      <td>0.0</td>\n",
       "      <td>0.0</td>\n",
       "      <td>...</td>\n",
       "      <td>0.0</td>\n",
       "      <td>1.0</td>\n",
       "      <td>0.0</td>\n",
       "      <td>0.0</td>\n",
       "      <td>0.0</td>\n",
       "      <td>0.0</td>\n",
       "      <td>1.0</td>\n",
       "      <td>0.0</td>\n",
       "      <td>1.0</td>\n",
       "      <td>0.0</td>\n",
       "    </tr>\n",
       "    <tr>\n",
       "      <th>5410</th>\n",
       "      <td>0.0</td>\n",
       "      <td>1.0</td>\n",
       "      <td>0.0</td>\n",
       "      <td>1.0</td>\n",
       "      <td>0.0</td>\n",
       "      <td>0.0</td>\n",
       "      <td>1.0</td>\n",
       "      <td>0.0</td>\n",
       "      <td>0.0</td>\n",
       "      <td>1.0</td>\n",
       "      <td>...</td>\n",
       "      <td>0.0</td>\n",
       "      <td>1.0</td>\n",
       "      <td>0.0</td>\n",
       "      <td>1.0</td>\n",
       "      <td>0.0</td>\n",
       "      <td>1.0</td>\n",
       "      <td>1.0</td>\n",
       "      <td>0.0</td>\n",
       "      <td>0.0</td>\n",
       "      <td>0.0</td>\n",
       "    </tr>\n",
       "    <tr>\n",
       "      <th>862</th>\n",
       "      <td>1.0</td>\n",
       "      <td>1.0</td>\n",
       "      <td>0.0</td>\n",
       "      <td>1.0</td>\n",
       "      <td>0.0</td>\n",
       "      <td>0.0</td>\n",
       "      <td>1.0</td>\n",
       "      <td>0.0</td>\n",
       "      <td>0.0</td>\n",
       "      <td>0.0</td>\n",
       "      <td>...</td>\n",
       "      <td>0.0</td>\n",
       "      <td>0.0</td>\n",
       "      <td>0.0</td>\n",
       "      <td>0.0</td>\n",
       "      <td>0.0</td>\n",
       "      <td>0.0</td>\n",
       "      <td>1.0</td>\n",
       "      <td>0.0</td>\n",
       "      <td>1.0</td>\n",
       "      <td>0.0</td>\n",
       "    </tr>\n",
       "  </tbody>\n",
       "</table>\n",
       "<p>5257 rows × 26 columns</p>\n",
       "</div>"
      ],
      "text/plain": [
       "      gender_Male  Partner_Yes  Dependents_Yes  PhoneService_Yes  \\\n",
       "5905          1.0          0.0             0.0               1.0   \n",
       "4389          1.0          0.0             0.0               1.0   \n",
       "1988          1.0          1.0             0.0               1.0   \n",
       "3194          0.0          1.0             0.0               0.0   \n",
       "3675          0.0          0.0             0.0               1.0   \n",
       "...           ...          ...             ...               ...   \n",
       "3787          0.0          0.0             0.0               1.0   \n",
       "5210          1.0          1.0             0.0               0.0   \n",
       "5246          0.0          0.0             0.0               1.0   \n",
       "5410          0.0          1.0             0.0               1.0   \n",
       "862           1.0          1.0             0.0               1.0   \n",
       "\n",
       "      MultipleLines_No phone service  MultipleLines_Yes  \\\n",
       "5905                             0.0                0.0   \n",
       "4389                             0.0                1.0   \n",
       "1988                             0.0                1.0   \n",
       "3194                             1.0                0.0   \n",
       "3675                             0.0                0.0   \n",
       "...                              ...                ...   \n",
       "3787                             0.0                0.0   \n",
       "5210                             1.0                0.0   \n",
       "5246                             0.0                0.0   \n",
       "5410                             0.0                0.0   \n",
       "862                              0.0                0.0   \n",
       "\n",
       "      InternetService_Fiber optic  InternetService_No  \\\n",
       "5905                          1.0                 0.0   \n",
       "4389                          1.0                 0.0   \n",
       "1988                          1.0                 0.0   \n",
       "3194                          0.0                 0.0   \n",
       "3675                          0.0                 1.0   \n",
       "...                           ...                 ...   \n",
       "3787                          1.0                 0.0   \n",
       "5210                          0.0                 0.0   \n",
       "5246                          1.0                 0.0   \n",
       "5410                          1.0                 0.0   \n",
       "862                           1.0                 0.0   \n",
       "\n",
       "      OnlineSecurity_No internet service  OnlineSecurity_Yes  ...  \\\n",
       "5905                                 0.0                 0.0  ...   \n",
       "4389                                 0.0                 1.0  ...   \n",
       "1988                                 0.0                 1.0  ...   \n",
       "3194                                 0.0                 0.0  ...   \n",
       "3675                                 1.0                 0.0  ...   \n",
       "...                                  ...                 ...  ...   \n",
       "3787                                 0.0                 0.0  ...   \n",
       "5210                                 0.0                 0.0  ...   \n",
       "5246                                 0.0                 0.0  ...   \n",
       "5410                                 0.0                 1.0  ...   \n",
       "862                                  0.0                 0.0  ...   \n",
       "\n",
       "      StreamingTV_No internet service  StreamingTV_Yes  \\\n",
       "5905                              0.0              0.0   \n",
       "4389                              0.0              1.0   \n",
       "1988                              0.0              1.0   \n",
       "3194                              0.0              1.0   \n",
       "3675                              1.0              0.0   \n",
       "...                               ...              ...   \n",
       "3787                              0.0              1.0   \n",
       "5210                              0.0              1.0   \n",
       "5246                              0.0              1.0   \n",
       "5410                              0.0              1.0   \n",
       "862                               0.0              0.0   \n",
       "\n",
       "      StreamingMovies_No internet service  StreamingMovies_Yes  \\\n",
       "5905                                  0.0                  1.0   \n",
       "4389                                  0.0                  1.0   \n",
       "1988                                  0.0                  1.0   \n",
       "3194                                  0.0                  1.0   \n",
       "3675                                  1.0                  0.0   \n",
       "...                                   ...                  ...   \n",
       "3787                                  0.0                  1.0   \n",
       "5210                                  0.0                  1.0   \n",
       "5246                                  0.0                  0.0   \n",
       "5410                                  0.0                  1.0   \n",
       "862                                   0.0                  0.0   \n",
       "\n",
       "      Contract_One year  Contract_Two year  PaperlessBilling_Yes  \\\n",
       "5905                0.0                0.0                   1.0   \n",
       "4389                0.0                0.0                   1.0   \n",
       "1988                1.0                0.0                   1.0   \n",
       "3194                0.0                0.0                   0.0   \n",
       "3675                0.0                0.0                   0.0   \n",
       "...                 ...                ...                   ...   \n",
       "3787                0.0                0.0                   1.0   \n",
       "5210                1.0                0.0                   1.0   \n",
       "5246                0.0                0.0                   1.0   \n",
       "5410                0.0                1.0                   1.0   \n",
       "862                 0.0                0.0                   1.0   \n",
       "\n",
       "      PaymentMethod_Credit card (automatic)  PaymentMethod_Electronic check  \\\n",
       "5905                                    0.0                             1.0   \n",
       "4389                                    0.0                             0.0   \n",
       "1988                                    0.0                             1.0   \n",
       "3194                                    1.0                             0.0   \n",
       "3675                                    0.0                             0.0   \n",
       "...                                     ...                             ...   \n",
       "3787                                    0.0                             1.0   \n",
       "5210                                    0.0                             1.0   \n",
       "5246                                    0.0                             1.0   \n",
       "5410                                    0.0                             0.0   \n",
       "862                                     0.0                             1.0   \n",
       "\n",
       "      PaymentMethod_Mailed check  \n",
       "5905                         0.0  \n",
       "4389                         0.0  \n",
       "1988                         0.0  \n",
       "3194                         0.0  \n",
       "3675                         1.0  \n",
       "...                          ...  \n",
       "3787                         0.0  \n",
       "5210                         0.0  \n",
       "5246                         0.0  \n",
       "5410                         0.0  \n",
       "862                          0.0  \n",
       "\n",
       "[5257 rows x 26 columns]"
      ]
     },
     "execution_count": 19,
     "metadata": {},
     "output_type": "execute_result"
    }
   ],
   "source": [
    "from sklearn.preprocessing import OneHotEncoder\n",
    "encoder=OneHotEncoder(drop=\"first\",sparse=False)\n",
    "X_train_cat_trans=pd.DataFrame(encoder.fit_transform(X_train_cat),\n",
    "                               columns=encoder.get_feature_names_out(X_train_cat.columns),index=X_train_cat.index)\n",
    "X_test_cat_trans=pd.DataFrame(encoder.transform(X_test_cat),\n",
    "                               columns=encoder.get_feature_names_out(X_test_cat.columns),index=X_test_cat.index)\n",
    "X_train_cat_trans"
   ]
  },
  {
   "cell_type": "markdown",
   "id": "4552f5df",
   "metadata": {},
   "source": [
    "# Step :3(iii) - Concating the X_train_num_trans & X_test_num_trans also X_train_cat_trans & X_test_cat_trans"
   ]
  },
  {
   "cell_type": "code",
   "execution_count": 20,
   "id": "ad4ceb39",
   "metadata": {},
   "outputs": [],
   "source": [
    "X_train_conc=pd.concat([X_train_num_trans,X_train_cat_trans],axis=1)\n",
    "X_test_conc=pd.concat([X_test_num_trans,X_test_cat_trans],axis=1)"
   ]
  },
  {
   "cell_type": "markdown",
   "id": "090053db",
   "metadata": {},
   "source": [
    "# Step 4,5&6- Model Building,Prediction & Evaluation"
   ]
  },
  {
   "cell_type": "markdown",
   "id": "27a27ea1",
   "metadata": {},
   "source": [
    "# LogisticRegression"
   ]
  },
  {
   "cell_type": "code",
   "execution_count": 21,
   "id": "010972b1",
   "metadata": {},
   "outputs": [
    {
     "name": "stdout",
     "output_type": "stream",
     "text": [
      "0.8208784940102681\n"
     ]
    }
   ],
   "source": [
    "# model building\n",
    "from sklearn.linear_model import LogisticRegression\n",
    "classifier=LogisticRegression()\n",
    "classifier.fit(X_train_conc,y_train)\n",
    "# prediction\n",
    "y_test_pred=classifier.predict(X_test_conc)\n",
    "# evaluation\n",
    "from sklearn import metrics\n",
    "a=metrics.accuracy_score(y_test,y_test_pred)\n",
    "\n",
    "Algorithm=[]\n",
    "Accuracy_score=[]\n",
    "Precision_score=[]\n",
    "Confusion_matrix=[]\n",
    "F1_score=[]\n",
    "Roc_Auc_Score=[]\n",
    "Log_Los=[]\n",
    "\n",
    "Algorithm.append(\"LogisticRegression\")\n",
    "Accuracy_score.append(a)\n",
    "Precision_score.append(metrics.precision_score(y_test,y_test_pred,pos_label=\"No\"))\n",
    "Confusion_matrix.append(metrics.confusion_matrix(y_test,y_test_pred))\n",
    "F1_score.append(metrics.f1_score(y_test,y_test_pred,pos_label=\"No\"))\n",
    "\n",
    "\n",
    "print(a)"
   ]
  },
  {
   "cell_type": "markdown",
   "id": "208b750b",
   "metadata": {},
   "source": [
    "# KNeighborsClassifier"
   ]
  },
  {
   "cell_type": "code",
   "execution_count": 22,
   "id": "08b1e8e7",
   "metadata": {},
   "outputs": [
    {
     "name": "stdout",
     "output_type": "stream",
     "text": [
      "0.7569880205362236\n"
     ]
    }
   ],
   "source": [
    "# model building\n",
    "from sklearn.neighbors import KNeighborsClassifier\n",
    "classifier=KNeighborsClassifier()\n",
    "classifier.fit(X_train_conc,y_train)\n",
    "# prediction\n",
    "y_test_pred=classifier.predict(X_test_conc)\n",
    "# evaluation\n",
    "from sklearn import metrics\n",
    "a=metrics.accuracy_score(y_test,y_test_pred)\n",
    "\n",
    "\n",
    "\n",
    "Algorithm.append(\"KNeighborsClassifier\")\n",
    "Accuracy_score.append(a)\n",
    "Precision_score.append(metrics.precision_score(y_test,y_test_pred,pos_label=\"No\"))\n",
    "Confusion_matrix.append(metrics.confusion_matrix(y_test,y_test_pred))\n",
    "F1_score.append(metrics.f1_score(y_test,y_test_pred,pos_label=\"No\"))\n",
    "\n",
    "\n",
    "print(a)"
   ]
  },
  {
   "cell_type": "markdown",
   "id": "df82af45",
   "metadata": {},
   "source": [
    "# Support Vector Classifier"
   ]
  },
  {
   "cell_type": "code",
   "execution_count": 23,
   "id": "03fae0b0",
   "metadata": {},
   "outputs": [
    {
     "name": "stdout",
     "output_type": "stream",
     "text": [
      "0.8220193953223046\n"
     ]
    }
   ],
   "source": [
    "# model building\n",
    "from sklearn.svm import SVC\n",
    "classifier=SVC()\n",
    "classifier.fit(X_train_conc,y_train)\n",
    "# prediction\n",
    "y_test_pred=classifier.predict(X_test_conc)\n",
    "# evaluation\n",
    "from sklearn import metrics\n",
    "a=metrics.accuracy_score(y_test,y_test_pred)\n",
    "\n",
    "\n",
    "Algorithm.append(\"Support Vector Classifier\")\n",
    "Accuracy_score.append(a)\n",
    "Precision_score.append(metrics.precision_score(y_test,y_test_pred,pos_label=\"No\"))\n",
    "Confusion_matrix.append(metrics.confusion_matrix(y_test,y_test_pred))\n",
    "F1_score.append(metrics.f1_score(y_test,y_test_pred,pos_label=\"No\"))\n",
    "\n",
    "\n",
    "print(a)"
   ]
  },
  {
   "cell_type": "markdown",
   "id": "172f6238",
   "metadata": {},
   "source": [
    "# DecisionTreeClassifier"
   ]
  },
  {
   "cell_type": "code",
   "execution_count": 24,
   "id": "1c37006f",
   "metadata": {},
   "outputs": [
    {
     "name": "stdout",
     "output_type": "stream",
     "text": [
      "0.739874500855676\n"
     ]
    }
   ],
   "source": [
    "# model building\n",
    "from sklearn.tree import DecisionTreeClassifier\n",
    "classifier=DecisionTreeClassifier()\n",
    "classifier.fit(X_train_conc,y_train)\n",
    "# prediction\n",
    "y_test_pred=classifier.predict(X_test_conc)\n",
    "# evaluation\n",
    "from sklearn import metrics\n",
    "a=metrics.accuracy_score(y_test,y_test_pred)\n",
    "\n",
    "\n",
    "Algorithm.append(\"DecisionTreeClassifier\")\n",
    "Accuracy_score.append(a)\n",
    "Precision_score.append(metrics.precision_score(y_test,y_test_pred,pos_label=\"No\"))\n",
    "Confusion_matrix.append(metrics.confusion_matrix(y_test,y_test_pred))\n",
    "F1_score.append(metrics.f1_score(y_test,y_test_pred,pos_label=\"No\"))\n",
    "\n",
    "\n",
    "print(a)"
   ]
  },
  {
   "cell_type": "markdown",
   "id": "c7e55220",
   "metadata": {},
   "source": [
    "# GaussianNB"
   ]
  },
  {
   "cell_type": "code",
   "execution_count": 25,
   "id": "0ff73f77",
   "metadata": {},
   "outputs": [
    {
     "name": "stdout",
     "output_type": "stream",
     "text": [
      "0.6560182544209926\n"
     ]
    }
   ],
   "source": [
    "# model building\n",
    "from sklearn.naive_bayes import GaussianNB\n",
    "classifier=GaussianNB()\n",
    "classifier.fit(X_train_conc,y_train)\n",
    "# prediction\n",
    "y_test_pred=classifier.predict(X_test_conc)\n",
    "# evaluation\n",
    "from sklearn import metrics\n",
    "a=metrics.accuracy_score(y_test,y_test_pred)\n",
    "\n",
    "\n",
    "Algorithm.append(\"GaussianNB\")\n",
    "Accuracy_score.append(a)\n",
    "Precision_score.append(metrics.precision_score(y_test,y_test_pred,pos_label=\"No\"))\n",
    "Confusion_matrix.append(metrics.confusion_matrix(y_test,y_test_pred))\n",
    "F1_score.append(metrics.f1_score(y_test,y_test_pred,pos_label=\"No\"))\n",
    "\n",
    "\n",
    "print(a)"
   ]
  },
  {
   "cell_type": "markdown",
   "id": "21f8f1f8",
   "metadata": {},
   "source": [
    "# AdaBoostClassifier"
   ]
  },
  {
   "cell_type": "code",
   "execution_count": 26,
   "id": "13b03e0a",
   "metadata": {},
   "outputs": [
    {
     "name": "stdout",
     "output_type": "stream",
     "text": [
      "0.8157444381061039\n"
     ]
    }
   ],
   "source": [
    "# model building\n",
    "from sklearn.ensemble import AdaBoostClassifier\n",
    "classifier=AdaBoostClassifier()\n",
    "classifier.fit(X_train_conc,y_train)\n",
    "# prediction\n",
    "y_test_pred=classifier.predict(X_test_conc)\n",
    "# evaluation\n",
    "from sklearn import metrics\n",
    "a=metrics.accuracy_score(y_test,y_test_pred)\n",
    "\n",
    "\n",
    "Algorithm.append(\"AdaBoostClassifier\")\n",
    "Accuracy_score.append(a)\n",
    "Precision_score.append(metrics.precision_score(y_test,y_test_pred,pos_label=\"No\"))\n",
    "Confusion_matrix.append(metrics.confusion_matrix(y_test,y_test_pred))\n",
    "F1_score.append(metrics.f1_score(y_test,y_test_pred,pos_label=\"No\"))\n",
    "\n",
    "\n",
    "print(a)"
   ]
  },
  {
   "cell_type": "markdown",
   "id": "53ffc63d",
   "metadata": {},
   "source": [
    "# GradientBoostingClassifier"
   ]
  },
  {
   "cell_type": "code",
   "execution_count": 27,
   "id": "dae36713",
   "metadata": {},
   "outputs": [
    {
     "name": "stdout",
     "output_type": "stream",
     "text": [
      "0.8128921848260126\n"
     ]
    }
   ],
   "source": [
    "# model building\n",
    "from sklearn.ensemble import GradientBoostingClassifier\n",
    "classifier=GradientBoostingClassifier()\n",
    "classifier.fit(X_train_conc,y_train)\n",
    "# prediction\n",
    "y_test_pred=classifier.predict(X_test_conc)\n",
    "# evaluation\n",
    "from sklearn import metrics\n",
    "a=metrics.accuracy_score(y_test,y_test_pred)\n",
    "\n",
    "\n",
    "Algorithm.append(\"GradientBoostingClassifier\")\n",
    "Accuracy_score.append(a)\n",
    "Precision_score.append(metrics.precision_score(y_test,y_test_pred,pos_label=\"No\"))\n",
    "Confusion_matrix.append(metrics.confusion_matrix(y_test,y_test_pred))\n",
    "F1_score.append(metrics.f1_score(y_test,y_test_pred,pos_label=\"No\"))\n",
    "\n",
    "\n",
    "print(a)"
   ]
  },
  {
   "cell_type": "markdown",
   "id": "1c6a871c",
   "metadata": {},
   "source": [
    "# RandomForestClassifier"
   ]
  },
  {
   "cell_type": "code",
   "execution_count": 28,
   "id": "de6aa80a",
   "metadata": {},
   "outputs": [
    {
     "name": "stdout",
     "output_type": "stream",
     "text": [
      "0.7917855105533371\n"
     ]
    }
   ],
   "source": [
    "# model building\n",
    "from sklearn.ensemble import RandomForestClassifier\n",
    "classifier=RandomForestClassifier()\n",
    "classifier.fit(X_train_conc,y_train)\n",
    "# prediction\n",
    "y_test_pred=classifier.predict(X_test_conc)\n",
    "# evaluation\n",
    "from sklearn import metrics\n",
    "a=metrics.accuracy_score(y_test,y_test_pred)\n",
    "\n",
    "\n",
    "Algorithm.append(\"RandomForestClassifier\")\n",
    "Accuracy_score.append(a)\n",
    "Precision_score.append(metrics.precision_score(y_test,y_test_pred,pos_label=\"No\"))\n",
    "Confusion_matrix.append(metrics.confusion_matrix(y_test,y_test_pred))\n",
    "F1_score.append(metrics.f1_score(y_test,y_test_pred,pos_label=\"No\"))\n",
    "\n",
    "\n",
    "print(a)"
   ]
  },
  {
   "cell_type": "code",
   "execution_count": 29,
   "id": "a5149664",
   "metadata": {},
   "outputs": [],
   "source": [
    "overview=pd.DataFrame({\"Accuracy_score\":Accuracy_score,\"Precision_score\":Precision_score,\n",
    "                      \"F1_score\":F1_score},index=Algorithm)"
   ]
  },
  {
   "cell_type": "code",
   "execution_count": 30,
   "id": "e6375c0b",
   "metadata": {
    "scrolled": false
   },
   "outputs": [
    {
     "data": {
      "text/html": [
       "<div>\n",
       "<style scoped>\n",
       "    .dataframe tbody tr th:only-of-type {\n",
       "        vertical-align: middle;\n",
       "    }\n",
       "\n",
       "    .dataframe tbody tr th {\n",
       "        vertical-align: top;\n",
       "    }\n",
       "\n",
       "    .dataframe thead th {\n",
       "        text-align: right;\n",
       "    }\n",
       "</style>\n",
       "<table border=\"1\" class=\"dataframe\">\n",
       "  <thead>\n",
       "    <tr style=\"text-align: right;\">\n",
       "      <th></th>\n",
       "      <th>Accuracy_score</th>\n",
       "      <th>Precision_score</th>\n",
       "      <th>F1_score</th>\n",
       "    </tr>\n",
       "  </thead>\n",
       "  <tbody>\n",
       "    <tr>\n",
       "      <th>LogisticRegression</th>\n",
       "      <td>0.820878</td>\n",
       "      <td>0.862419</td>\n",
       "      <td>0.883531</td>\n",
       "    </tr>\n",
       "    <tr>\n",
       "      <th>KNeighborsClassifier</th>\n",
       "      <td>0.756988</td>\n",
       "      <td>0.840092</td>\n",
       "      <td>0.837529</td>\n",
       "    </tr>\n",
       "    <tr>\n",
       "      <th>Support Vector Classifier</th>\n",
       "      <td>0.822019</td>\n",
       "      <td>0.849477</td>\n",
       "      <td>0.886545</td>\n",
       "    </tr>\n",
       "    <tr>\n",
       "      <th>DecisionTreeClassifier</th>\n",
       "      <td>0.739875</td>\n",
       "      <td>0.838990</td>\n",
       "      <td>0.823393</td>\n",
       "    </tr>\n",
       "    <tr>\n",
       "      <th>GaussianNB</th>\n",
       "      <td>0.656018</td>\n",
       "      <td>0.947236</td>\n",
       "      <td>0.714353</td>\n",
       "    </tr>\n",
       "    <tr>\n",
       "      <th>AdaBoostClassifier</th>\n",
       "      <td>0.815744</td>\n",
       "      <td>0.858382</td>\n",
       "      <td>0.880326</td>\n",
       "    </tr>\n",
       "    <tr>\n",
       "      <th>GradientBoostingClassifier</th>\n",
       "      <td>0.812892</td>\n",
       "      <td>0.856318</td>\n",
       "      <td>0.878519</td>\n",
       "    </tr>\n",
       "    <tr>\n",
       "      <th>RandomForestClassifier</th>\n",
       "      <td>0.791786</td>\n",
       "      <td>0.841236</td>\n",
       "      <td>0.865164</td>\n",
       "    </tr>\n",
       "  </tbody>\n",
       "</table>\n",
       "</div>"
      ],
      "text/plain": [
       "                            Accuracy_score  Precision_score  F1_score\n",
       "LogisticRegression                0.820878         0.862419  0.883531\n",
       "KNeighborsClassifier              0.756988         0.840092  0.837529\n",
       "Support Vector Classifier         0.822019         0.849477  0.886545\n",
       "DecisionTreeClassifier            0.739875         0.838990  0.823393\n",
       "GaussianNB                        0.656018         0.947236  0.714353\n",
       "AdaBoostClassifier                0.815744         0.858382  0.880326\n",
       "GradientBoostingClassifier        0.812892         0.856318  0.878519\n",
       "RandomForestClassifier            0.791786         0.841236  0.865164"
      ]
     },
     "execution_count": 30,
     "metadata": {},
     "output_type": "execute_result"
    }
   ],
   "source": [
    "overview"
   ]
  },
  {
   "cell_type": "markdown",
   "id": "694f3411",
   "metadata": {},
   "source": [
    "# Conclusion\n",
    "- From the above data we say that  <font size=\"4\"> __SupportVectorClassifier__ </font> is the best fit model as accuracy of prediction  is more in  evaluation matrix\n",
    "- <font size=\"4\"> __GaussianNB__ </font> perfomance is low compare with others"
   ]
  },
  {
   "cell_type": "code",
   "execution_count": 31,
   "id": "f46a6574",
   "metadata": {},
   "outputs": [],
   "source": [
    "df.to_csv(\"df2.csv\")"
   ]
  },
  {
   "cell_type": "markdown",
   "id": "2cdaa382",
   "metadata": {},
   "source": [
    "# Univariate Analysis"
   ]
  },
  {
   "cell_type": "code",
   "execution_count": 32,
   "id": "546af0e1",
   "metadata": {},
   "outputs": [
    {
     "data": {
      "text/plain": [
       "Index(['SeniorCitizen', 'tenure', 'MonthlyCharges', 'TotalCharges'], dtype='object')"
      ]
     },
     "execution_count": 32,
     "metadata": {},
     "output_type": "execute_result"
    }
   ],
   "source": [
    "df.select_dtypes(include=[\"int\",\"float\"]).columns"
   ]
  },
  {
   "cell_type": "code",
   "execution_count": 45,
   "id": "a1741cec",
   "metadata": {},
   "outputs": [
    {
     "data": {
      "image/png": "[encoded data removed]",
      "text/plain": [
       "<Figure size 1440x1080 with 4 Axes>"
      ]
     },
     "metadata": {
      "needs_background": "light"
     },
     "output_type": "display_data"
    }
   ],
   "source": [
    "fig,axes=plt.subplots(2,2,figsize=(20,15))\n",
    "sns.countplot(df[\"SeniorCitizen\"],ax=axes[0][0])\n",
    "sns.histplot(df[\"tenure\"],ax=axes[0][1])\n",
    "sns.distplot(df[\"MonthlyCharges\"],ax=axes[1][0])\n",
    "sns.violinplot(df[\"TotalCharges\"],ax=axes[1][1])\n",
    "plt.sca(axes[0][0])\n",
    "plt.xticks(fontsize=20)\n",
    "plt.yticks(fontsize=20)\n",
    "plt.sca(axes[0][1])\n",
    "plt.xticks(fontsize=20)\n",
    "plt.yticks(fontsize=20)\n",
    "plt.sca(axes[1][0])\n",
    "plt.xticks(fontsize=20)\n",
    "plt.yticks(fontsize=20)\n",
    "plt.sca(axes[1][1])\n",
    "plt.xticks(fontsize=20)\n",
    "plt.yticks(fontsize=20)\n",
    "plt.show();"
   ]
  },
  {
   "cell_type": "markdown",
   "id": "c90cd98f",
   "metadata": {},
   "source": [
    "# Observation:\n",
    "## From the above charts captured the below insights.\n",
    "- Most the people are non-senior citizens\n",
    "- Max people choose tenure period in between 0-5 \n",
    "- Most of the people opt low chargeable service (i.e 20-30)"
   ]
  },
  {
   "cell_type": "code",
   "execution_count": 47,
   "id": "b206949e",
   "metadata": {},
   "outputs": [
    {
     "data": {
      "text/plain": [
       "Index(['gender', 'Partner', 'Dependents', 'PhoneService', 'MultipleLines',\n",
       "       'InternetService', 'OnlineSecurity', 'OnlineBackup', 'DeviceProtection',\n",
       "       'TechSupport', 'StreamingTV', 'StreamingMovies', 'Contract',\n",
       "       'PaperlessBilling', 'PaymentMethod', 'Churn'],\n",
       "      dtype='object')"
      ]
     },
     "execution_count": 47,
     "metadata": {},
     "output_type": "execute_result"
    }
   ],
   "source": [
    "df.select_dtypes(include=\"object\").columns"
   ]
  },
  {
   "cell_type": "code",
   "execution_count": 48,
   "id": "5110e738",
   "metadata": {},
   "outputs": [],
   "source": [
    "cat_columns=['gender', 'Partner', 'Dependents', 'PhoneService', 'MultipleLines',\n",
    "       'InternetService', 'OnlineSecurity', 'OnlineBackup', 'DeviceProtection',\n",
    "       'TechSupport', 'StreamingTV', 'StreamingMovies', 'Contract',\n",
    "       'PaperlessBilling', 'PaymentMethod']"
   ]
  },
  {
   "cell_type": "code",
   "execution_count": 49,
   "id": "638d9fec",
   "metadata": {},
   "outputs": [
    {
     "data": {
      "image/png": "[encoded data removed]",
      "text/plain": [
       "<Figure size 432x288 with 1 Axes>"
      ]
     },
     "metadata": {
      "needs_background": "light"
     },
     "output_type": "display_data"
    },
    {
     "data": {
      "image/png": "[encoded data removed]",
      "text/plain": [
       "<Figure size 432x288 with 1 Axes>"
      ]
     },
     "metadata": {
      "needs_background": "light"
     },
     "output_type": "display_data"
    },
    {
     "data": {
      "image/png": "[encoded data removed]",
      "text/plain": [
       "<Figure size 432x288 with 1 Axes>"
      ]
     },
     "metadata": {
      "needs_background": "light"
     },
     "output_type": "display_data"
    },
    {
     "data": {
      "image/png": "[encoded data removed]",
      "text/plain": [
       "<Figure size 432x288 with 1 Axes>"
      ]
     },
     "metadata": {
      "needs_background": "light"
     },
     "output_type": "display_data"
    },
    {
     "data": {
      "image/png": "[encoded data removed]",
      "text/plain": [
       "<Figure size 432x288 with 1 Axes>"
      ]
     },
     "metadata": {
      "needs_background": "light"
     },
     "output_type": "display_data"
    },
    {
     "data": {
      "image/png": "[encoded data removed]",
      "text/plain": [
       "<Figure size 432x288 with 1 Axes>"
      ]
     },
     "metadata": {
      "needs_background": "light"
     },
     "output_type": "display_data"
    },
    {
     "data": {
      "image/png": "[encoded data removed]",
      "text/plain": [
       "<Figure size 432x288 with 1 Axes>"
      ]
     },
     "metadata": {
      "needs_background": "light"
     },
     "output_type": "display_data"
    },
    {
     "data": {
      "image/png": "[encoded data removed]",
      "text/plain": [
       "<Figure size 432x288 with 1 Axes>"
      ]
     },
     "metadata": {
      "needs_background": "light"
     },
     "output_type": "display_data"
    },
    {
     "data": {
      "image/png": "[encoded data removed]",
      "text/plain": [
       "<Figure size 432x288 with 1 Axes>"
      ]
     },
     "metadata": {
      "needs_background": "light"
     },
     "output_type": "display_data"
    },
    {
     "data": {
      "image/png": "[encoded data removed]",
      "text/plain": [
       "<Figure size 432x288 with 1 Axes>"
      ]
     },
     "metadata": {
      "needs_background": "light"
     },
     "output_type": "display_data"
    },
    {
     "data": {
      "image/png": "[encoded data removed]",
      "text/plain": [
       "<Figure size 432x288 with 1 Axes>"
      ]
     },
     "metadata": {
      "needs_background": "light"
     },
     "output_type": "display_data"
    },
    {
     "data": {
      "image/png": "[encoded data removed]",
      "text/plain": [
       "<Figure size 432x288 with 1 Axes>"
      ]
     },
     "metadata": {
      "needs_background": "light"
     },
     "output_type": "display_data"
    },
    {
     "data": {
      "image/png": "[encoded data removed]",
      "text/plain": [
       "<Figure size 432x288 with 1 Axes>"
      ]
     },
     "metadata": {
      "needs_background": "light"
     },
     "output_type": "display_data"
    },
    {
     "data": {
      "image/png": "[encoded data removed]",
      "text/plain": [
       "<Figure size 432x288 with 1 Axes>"
      ]
     },
     "metadata": {
      "needs_background": "light"
     },
     "output_type": "display_data"
    },
    {
     "data": {
      "image/png": "[encoded data removed]",
      "text/plain": [
       "<Figure size 432x288 with 1 Axes>"
      ]
     },
     "metadata": {
      "needs_background": "light"
     },
     "output_type": "display_data"
    }
   ],
   "source": [
    "for i in cat_columns:\n",
    "    sns.countplot(df[i])\n",
    "    plt.show();"
   ]
  },
  {
   "cell_type": "markdown",
   "id": "115fe247",
   "metadata": {},
   "source": [
    "# Main insights from the above visuals\n",
    "- Max People  opted  phone service\n",
    "- Males and Females are in equal ratio\n",
    "- Most of the users are using Electronic check payment Method\n",
    "- Month-to-Month Plan is most preferable\n",
    "- Max user does not have dependants"
   ]
  },
  {
   "cell_type": "markdown",
   "id": "1520d57d",
   "metadata": {},
   "source": [
    "# Exploratory Data Analysis using Tableau"
   ]
  },
  {
   "cell_type": "markdown",
   "id": "335cc00c",
   "metadata": {},
   "source": [
    "https://public.tableau.com/views/Analysistofindthevariableswhichaffectsthechurnmost/Dashboard1?:language=en-US&:display_count=n&:origin=viz_share_link"
   ]
  },
  {
   "cell_type": "code",
   "execution_count": null,
   "id": "32295121",
   "metadata": {},
   "outputs": [],
   "source": []
  },
  {
   "cell_type": "code",
   "execution_count": null,
   "id": "16e7a545",
   "metadata": {},
   "outputs": [],
   "source": []
  },
  {
   "cell_type": "code",
   "execution_count": null,
   "id": "d2f4c314",
   "metadata": {},
   "outputs": [],
   "source": []
  },
  {
   "cell_type": "code",
   "execution_count": null,
   "id": "6d92bc0f",
   "metadata": {},
   "outputs": [],
   "source": []
  },
  {
   "cell_type": "code",
   "execution_count": null,
   "id": "96183125",
   "metadata": {},
   "outputs": [],
   "source": []
  },
  {
   "cell_type": "code",
   "execution_count": null,
   "id": "46b3ab91",
   "metadata": {},
   "outputs": [],
   "source": []
  }
 ],
 "metadata": {
  "kernelspec": {
   "display_name": "Python 3 (ipykernel)",
   "language": "python",
   "name": "python3"
  },
  "language_info": {
   "codemirror_mode": {
    "name": "ipython",
    "version": 3
   },
   "file_extension": ".py",
   "mimetype": "text/x-python",
   "name": "python",
   "nbconvert_exporter": "python",
   "pygments_lexer": "ipython3",
   "version": "3.9.12"
  }
 },
 "nbformat": 4,
 "nbformat_minor": 5
}
