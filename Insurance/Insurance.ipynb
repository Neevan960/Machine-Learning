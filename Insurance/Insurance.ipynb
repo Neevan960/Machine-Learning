{
 "cells": [
  {
   "cell_type": "code",
   "execution_count": 71,
   "id": "d6fc0b47",
   "metadata": {},
   "outputs": [],
   "source": [
    "import pandas as pd \n",
    "import numpy as np\n",
    "import seaborn as sns\n",
    "import matplotlib.pyplot as plt\n",
    "import sklearn\n",
    "import warnings\n",
    "warnings.filterwarnings(\"ignore\")"
   ]
  },
  {
   "cell_type": "code",
   "execution_count": 2,
   "id": "a41b08ef",
   "metadata": {},
   "outputs": [],
   "source": [
    "df=pd.read_csv(\"insurance.csv\")"
   ]
  },
  {
   "cell_type": "code",
   "execution_count": 3,
   "id": "86dc73ca",
   "metadata": {},
   "outputs": [
    {
     "data": {
      "text/html": [
       "<div>\n",
       "<style scoped>\n",
       "    .dataframe tbody tr th:only-of-type {\n",
       "        vertical-align: middle;\n",
       "    }\n",
       "\n",
       "    .dataframe tbody tr th {\n",
       "        vertical-align: top;\n",
       "    }\n",
       "\n",
       "    .dataframe thead th {\n",
       "        text-align: right;\n",
       "    }\n",
       "</style>\n",
       "<table border=\"1\" class=\"dataframe\">\n",
       "  <thead>\n",
       "    <tr style=\"text-align: right;\">\n",
       "      <th></th>\n",
       "      <th>age</th>\n",
       "      <th>sex</th>\n",
       "      <th>bmi</th>\n",
       "      <th>children</th>\n",
       "      <th>smoker</th>\n",
       "      <th>region</th>\n",
       "      <th>charges</th>\n",
       "    </tr>\n",
       "  </thead>\n",
       "  <tbody>\n",
       "    <tr>\n",
       "      <th>0</th>\n",
       "      <td>19</td>\n",
       "      <td>female</td>\n",
       "      <td>27.900</td>\n",
       "      <td>0</td>\n",
       "      <td>yes</td>\n",
       "      <td>southwest</td>\n",
       "      <td>16884.92400</td>\n",
       "    </tr>\n",
       "    <tr>\n",
       "      <th>1</th>\n",
       "      <td>18</td>\n",
       "      <td>male</td>\n",
       "      <td>33.770</td>\n",
       "      <td>1</td>\n",
       "      <td>no</td>\n",
       "      <td>southeast</td>\n",
       "      <td>1725.55230</td>\n",
       "    </tr>\n",
       "    <tr>\n",
       "      <th>2</th>\n",
       "      <td>28</td>\n",
       "      <td>male</td>\n",
       "      <td>33.000</td>\n",
       "      <td>3</td>\n",
       "      <td>no</td>\n",
       "      <td>southeast</td>\n",
       "      <td>4449.46200</td>\n",
       "    </tr>\n",
       "    <tr>\n",
       "      <th>3</th>\n",
       "      <td>33</td>\n",
       "      <td>male</td>\n",
       "      <td>22.705</td>\n",
       "      <td>0</td>\n",
       "      <td>no</td>\n",
       "      <td>northwest</td>\n",
       "      <td>21984.47061</td>\n",
       "    </tr>\n",
       "    <tr>\n",
       "      <th>4</th>\n",
       "      <td>32</td>\n",
       "      <td>male</td>\n",
       "      <td>28.880</td>\n",
       "      <td>0</td>\n",
       "      <td>no</td>\n",
       "      <td>northwest</td>\n",
       "      <td>3866.85520</td>\n",
       "    </tr>\n",
       "  </tbody>\n",
       "</table>\n",
       "</div>"
      ],
      "text/plain": [
       "   age     sex     bmi  children smoker     region      charges\n",
       "0   19  female  27.900         0    yes  southwest  16884.92400\n",
       "1   18    male  33.770         1     no  southeast   1725.55230\n",
       "2   28    male  33.000         3     no  southeast   4449.46200\n",
       "3   33    male  22.705         0     no  northwest  21984.47061\n",
       "4   32    male  28.880         0     no  northwest   3866.85520"
      ]
     },
     "execution_count": 3,
     "metadata": {},
     "output_type": "execute_result"
    }
   ],
   "source": [
    "df.head()"
   ]
  },
  {
   "cell_type": "code",
   "execution_count": 4,
   "id": "d50607d5",
   "metadata": {},
   "outputs": [
    {
     "data": {
      "image/png": "[encoded data removed]",
      "text/plain": [
       "<Figure size 432x288 with 1 Axes>"
      ]
     },
     "metadata": {
      "needs_background": "light"
     },
     "output_type": "display_data"
    },
    {
     "data": {
      "image/png": "[encoded data removed]",
      "text/plain": [
       "<Figure size 432x288 with 1 Axes>"
      ]
     },
     "metadata": {
      "needs_background": "light"
     },
     "output_type": "display_data"
    },
    {
     "data": {
      "image/png": "[encoded data removed]",
      "text/plain": [
       "<Figure size 432x288 with 1 Axes>"
      ]
     },
     "metadata": {
      "needs_background": "light"
     },
     "output_type": "display_data"
    },
    {
     "data": {
      "image/png": "[encoded data removed]",
      "text/plain": [
       "<Figure size 432x288 with 1 Axes>"
      ]
     },
     "metadata": {
      "needs_background": "light"
     },
     "output_type": "display_data"
    }
   ],
   "source": [
    "num_col=[\"age\",\"bmi\",\"children\",\"charges\"]\n",
    "for i in num_col:\n",
    "    sns.boxplot(data=df,x=i)\n",
    "    plt.show()"
   ]
  },
  {
   "cell_type": "markdown",
   "id": "0a87349e",
   "metadata": {},
   "source": [
    "# found outliers in charges and bmi columns"
   ]
  },
  {
   "cell_type": "code",
   "execution_count": 5,
   "id": "bf6a5be9",
   "metadata": {},
   "outputs": [],
   "source": [
    "num=df.select_dtypes(include='number')"
   ]
  },
  {
   "cell_type": "code",
   "execution_count": 9,
   "id": "a4b5aed7",
   "metadata": {},
   "outputs": [
    {
     "name": "stderr",
     "output_type": "stream",
     "text": [
      "C:\\Users\\NAVEEN KUMAR REDDY.B\\anaconda3\\lib\\site-packages\\seaborn\\_decorators.py:36: FutureWarning: Pass the following variable as a keyword arg: x. From version 0.12, the only valid positional argument will be `data`, and passing other arguments without an explicit keyword will result in an error or misinterpretation.\n",
      "  warnings.warn(\n"
     ]
    },
    {
     "data": {
      "image/png": "[encoded data removed]",
      "text/plain": [
       "<Figure size 432x288 with 1 Axes>"
      ]
     },
     "metadata": {
      "needs_background": "light"
     },
     "output_type": "display_data"
    },
    {
     "name": "stderr",
     "output_type": "stream",
     "text": [
      "C:\\Users\\NAVEEN KUMAR REDDY.B\\anaconda3\\lib\\site-packages\\seaborn\\_decorators.py:36: FutureWarning: Pass the following variable as a keyword arg: x. From version 0.12, the only valid positional argument will be `data`, and passing other arguments without an explicit keyword will result in an error or misinterpretation.\n",
      "  warnings.warn(\n"
     ]
    },
    {
     "data": {
      "image/png": "[encoded data removed]",
      "text/plain": [
       "<Figure size 432x288 with 1 Axes>"
      ]
     },
     "metadata": {
      "needs_background": "light"
     },
     "output_type": "display_data"
    },
    {
     "name": "stderr",
     "output_type": "stream",
     "text": [
      "C:\\Users\\NAVEEN KUMAR REDDY.B\\anaconda3\\lib\\site-packages\\seaborn\\_decorators.py:36: FutureWarning: Pass the following variable as a keyword arg: x. From version 0.12, the only valid positional argument will be `data`, and passing other arguments without an explicit keyword will result in an error or misinterpretation.\n",
      "  warnings.warn(\n"
     ]
    },
    {
     "data": {
      "image/png": "[encoded data removed]",
      "text/plain": [
       "<Figure size 432x288 with 1 Axes>"
      ]
     },
     "metadata": {
      "needs_background": "light"
     },
     "output_type": "display_data"
    },
    {
     "name": "stderr",
     "output_type": "stream",
     "text": [
      "C:\\Users\\NAVEEN KUMAR REDDY.B\\anaconda3\\lib\\site-packages\\seaborn\\_decorators.py:36: FutureWarning: Pass the following variable as a keyword arg: x. From version 0.12, the only valid positional argument will be `data`, and passing other arguments without an explicit keyword will result in an error or misinterpretation.\n",
      "  warnings.warn(\n"
     ]
    },
    {
     "data": {
      "image/png": "[encoded data removed]",
      "text/plain": [
       "<Figure size 432x288 with 1 Axes>"
      ]
     },
     "metadata": {
      "needs_background": "light"
     },
     "output_type": "display_data"
    }
   ],
   "source": [
    "def out(col):\n",
    "    q1 = df[col].quantile(0.25)\n",
    "    q3 = df[col].quantile(0.75)\n",
    "    IQR = q3-q1\n",
    "    lb = q1-(1.5*IQR)\n",
    "    ub = q3+(1.5*IQR)\n",
    "\n",
    "    outliers = df[(df[col]<lb)|(df[col]>ub)].index\n",
    "    return outliers\n",
    "for i in num:\n",
    "    df.drop(out(i),inplace=True)\n",
    "    sns.boxplot(df[i])\n",
    "    plt.show()"
   ]
  },
  {
   "cell_type": "markdown",
   "id": "7075b252",
   "metadata": {},
   "source": [
    "# step 1 - defining input(X) and output(y)"
   ]
  },
  {
   "cell_type": "code",
   "execution_count": 10,
   "id": "b66b1b63",
   "metadata": {},
   "outputs": [],
   "source": [
    "X=df[[\"age\",\"bmi\",\"children\",\"sex\",\"smoker\",\"region\"]]\n",
    "y=df[\"charges\"]"
   ]
  },
  {
   "cell_type": "markdown",
   "id": "f3c13b23",
   "metadata": {},
   "source": [
    "# Step 2 - Splitting the Data into Train and Test "
   ]
  },
  {
   "cell_type": "code",
   "execution_count": 11,
   "id": "fb474c55",
   "metadata": {},
   "outputs": [],
   "source": [
    "import sklearn\n",
    "from sklearn.model_selection import train_test_split\n",
    "X_train,X_test,y_train,y_test= train_test_split(X,y,test_size=0.25,random_state=0)"
   ]
  },
  {
   "cell_type": "markdown",
   "id": "66987760",
   "metadata": {},
   "source": [
    "# Step3- Preprocessig the data"
   ]
  },
  {
   "cell_type": "code",
   "execution_count": 12,
   "id": "47ee40b5",
   "metadata": {},
   "outputs": [
    {
     "name": "stdout",
     "output_type": "stream",
     "text": [
      "<class 'pandas.core.frame.DataFrame'>\n",
      "Int64Index: 1105 entries, 0 to 1336\n",
      "Data columns (total 7 columns):\n",
      " #   Column    Non-Null Count  Dtype  \n",
      "---  ------    --------------  -----  \n",
      " 0   age       1105 non-null   int64  \n",
      " 1   sex       1105 non-null   object \n",
      " 2   bmi       1105 non-null   float64\n",
      " 3   children  1105 non-null   int64  \n",
      " 4   smoker    1105 non-null   object \n",
      " 5   region    1105 non-null   object \n",
      " 6   charges   1105 non-null   float64\n",
      "dtypes: float64(2), int64(2), object(3)\n",
      "memory usage: 69.1+ KB\n"
     ]
    }
   ],
   "source": [
    "df.info()"
   ]
  },
  {
   "cell_type": "code",
   "execution_count": 13,
   "id": "43ea0984",
   "metadata": {},
   "outputs": [],
   "source": [
    "X_train_num=X_train.select_dtypes(include=[\"int64\",\"float64\"])\n",
    "X_train_cat=X_train.select_dtypes(include=\"object\")\n",
    "X_test_num=X_test.select_dtypes(include=[\"int64\",\"float64\"])\n",
    "X_test_cat=X_test.select_dtypes(include=\"object\")"
   ]
  },
  {
   "cell_type": "markdown",
   "id": "5c448d68",
   "metadata": {},
   "source": [
    "# Transforming X_train_cat "
   ]
  },
  {
   "cell_type": "code",
   "execution_count": 14,
   "id": "ef5dfc57",
   "metadata": {},
   "outputs": [],
   "source": [
    "from sklearn.preprocessing import OneHotEncoder\n",
    "encoder=OneHotEncoder(drop=\"first\",sparse=False)"
   ]
  },
  {
   "cell_type": "code",
   "execution_count": 15,
   "id": "d0f3af95",
   "metadata": {},
   "outputs": [],
   "source": [
    "X_train_cat_ohe=pd.DataFrame(encoder.fit_transform(X_train_cat),\n",
    "                             columns=encoder.get_feature_names_out(X_train_cat.columns),index=X_train_cat.index)"
   ]
  },
  {
   "cell_type": "markdown",
   "id": "f1f0791f",
   "metadata": {},
   "source": [
    "# Transforming X_train_num "
   ]
  },
  {
   "cell_type": "code",
   "execution_count": 16,
   "id": "008f026e",
   "metadata": {},
   "outputs": [],
   "source": [
    "from sklearn.preprocessing import StandardScaler\n",
    "scaler=StandardScaler()"
   ]
  },
  {
   "cell_type": "code",
   "execution_count": 17,
   "id": "746dfa33",
   "metadata": {},
   "outputs": [],
   "source": [
    "X_train_num_rescaled=pd.DataFrame(scaler.fit_transform(X_train_num),columns=X_train_num.columns,index=X_train_num.index)"
   ]
  },
  {
   "cell_type": "markdown",
   "id": "b2a0f871",
   "metadata": {},
   "source": [
    "# Concating the X_train_cat_ohe and X_train_num_rescaled"
   ]
  },
  {
   "cell_type": "code",
   "execution_count": 18,
   "id": "2415935d",
   "metadata": {},
   "outputs": [],
   "source": [
    "X_train_conc=pd.concat([X_train_num_rescaled,X_train_cat_ohe],axis=1)"
   ]
  },
  {
   "cell_type": "markdown",
   "id": "b7f83263",
   "metadata": {},
   "source": [
    "# Transforming X_test_cat "
   ]
  },
  {
   "cell_type": "code",
   "execution_count": 19,
   "id": "73acdaf8",
   "metadata": {},
   "outputs": [],
   "source": [
    "X_test_cat_ohe=pd.DataFrame(encoder.transform(X_test_cat),columns=encoder.get_feature_names_out(X_test_cat.columns),index=X_test_cat.index)"
   ]
  },
  {
   "cell_type": "markdown",
   "id": "1eddeca1",
   "metadata": {},
   "source": [
    "# Transforming X_test_num "
   ]
  },
  {
   "cell_type": "code",
   "execution_count": 20,
   "id": "699cace4",
   "metadata": {},
   "outputs": [],
   "source": [
    "X_test_num_rescaled=pd.DataFrame(scaler.transform(X_test_num),columns=X_test_num.columns,index=X_test_num.index)"
   ]
  },
  {
   "cell_type": "markdown",
   "id": "0574996a",
   "metadata": {},
   "source": [
    "# Concating the X_test_cat_ohe and X_test_num_rescaled"
   ]
  },
  {
   "cell_type": "code",
   "execution_count": 21,
   "id": "61fd6a97",
   "metadata": {},
   "outputs": [],
   "source": [
    "X_test_conc=pd.concat([X_test_num_rescaled,X_test_cat_ohe],axis=1)"
   ]
  },
  {
   "cell_type": "markdown",
   "id": "baac9751",
   "metadata": {},
   "source": [
    "# Step 4,5&6- Model Building,Prediction & Evaluation"
   ]
  },
  {
   "cell_type": "markdown",
   "id": "41382c3a",
   "metadata": {},
   "source": [
    "# LinearRegression"
   ]
  },
  {
   "cell_type": "code",
   "execution_count": 22,
   "id": "48851d2c",
   "metadata": {},
   "outputs": [
    {
     "data": {
      "text/plain": [
       "1499.2837484856123"
      ]
     },
     "execution_count": 22,
     "metadata": {},
     "output_type": "execute_result"
    }
   ],
   "source": [
    "# model building\n",
    "from sklearn.linear_model import LinearRegression\n",
    "regressor=LinearRegression()\n",
    "regressor.fit(X_train_conc,y_train)\n",
    "# prediction\n",
    "y_test_pred=regressor.predict(X_test_conc)\n",
    "# evaluation\n",
    "from sklearn import metrics\n",
    "metrics.mean_absolute_error(y_test,y_test_pred)"
   ]
  },
  {
   "cell_type": "markdown",
   "id": "7a22d5af",
   "metadata": {},
   "source": [
    "# KNeighborsRegressor"
   ]
  },
  {
   "cell_type": "code",
   "execution_count": 23,
   "id": "222b43c1",
   "metadata": {},
   "outputs": [
    {
     "data": {
      "text/plain": [
       "1979.7082227126355"
      ]
     },
     "execution_count": 23,
     "metadata": {},
     "output_type": "execute_result"
    }
   ],
   "source": [
    "# model building\n",
    "from sklearn.neighbors import KNeighborsRegressor\n",
    "regressor=KNeighborsRegressor()\n",
    "regressor.fit(X_train_conc,y_train)\n",
    "# prediction\n",
    "y_test_pred=regressor.predict(X_test_conc)\n",
    "# evaluation\n",
    "from sklearn import metrics\n",
    "metrics.mean_absolute_error(y_test,y_test_pred)"
   ]
  },
  {
   "cell_type": "markdown",
   "id": "1aa14c9a",
   "metadata": {},
   "source": [
    "# DecisionTreeRegressor"
   ]
  },
  {
   "cell_type": "code",
   "execution_count": 24,
   "id": "c0b0d6cf",
   "metadata": {},
   "outputs": [
    {
     "data": {
      "text/plain": [
       "1794.6358292779782"
      ]
     },
     "execution_count": 24,
     "metadata": {},
     "output_type": "execute_result"
    }
   ],
   "source": [
    "# model building\n",
    "from sklearn.tree import DecisionTreeRegressor\n",
    "regressor=DecisionTreeRegressor()\n",
    "regressor.fit(X_train_conc,y_train)\n",
    "# prediction\n",
    "y_test_pred=regressor.predict(X_test_conc)\n",
    "# evaluation\n",
    "from sklearn import metrics\n",
    "metrics.mean_absolute_error(y_test,y_test_pred)"
   ]
  },
  {
   "cell_type": "markdown",
   "id": "2af7997a",
   "metadata": {},
   "source": [
    "# Support vector Regression"
   ]
  },
  {
   "cell_type": "code",
   "execution_count": 25,
   "id": "66f4619d",
   "metadata": {},
   "outputs": [
    {
     "data": {
      "text/plain": [
       "4470.67965087522"
      ]
     },
     "execution_count": 25,
     "metadata": {},
     "output_type": "execute_result"
    }
   ],
   "source": [
    "# model building\n",
    "from sklearn.svm import SVR\n",
    "regressor=SVR()\n",
    "regressor.fit(X_train_conc,y_train)\n",
    "# prediction\n",
    "y_test_pred=regressor.predict(X_test_conc)\n",
    "# evaluation\n",
    "from sklearn import metrics\n",
    "metrics.mean_absolute_error(y_test,y_test_pred)"
   ]
  },
  {
   "cell_type": "markdown",
   "id": "a6c6441c",
   "metadata": {},
   "source": [
    "# RandomForestRegressor"
   ]
  },
  {
   "cell_type": "code",
   "execution_count": 26,
   "id": "adc16f33",
   "metadata": {},
   "outputs": [
    {
     "data": {
      "text/plain": [
       "1466.047561289435"
      ]
     },
     "execution_count": 26,
     "metadata": {},
     "output_type": "execute_result"
    }
   ],
   "source": [
    "# model building\n",
    "from sklearn.ensemble import RandomForestRegressor\n",
    "regressor=RandomForestRegressor()\n",
    "regressor.fit(X_train_conc,y_train)\n",
    "# prediction\n",
    "y_test_pred=regressor.predict(X_test_conc)\n",
    "# evaluation\n",
    "from sklearn import metrics\n",
    "metrics.mean_absolute_error(y_test,y_test_pred)"
   ]
  },
  {
   "cell_type": "markdown",
   "id": "ac9d0fc9",
   "metadata": {},
   "source": [
    "# GradientBoostingRegressor"
   ]
  },
  {
   "cell_type": "code",
   "execution_count": 28,
   "id": "afa7023d",
   "metadata": {},
   "outputs": [
    {
     "data": {
      "text/plain": [
       "1446.001764302357"
      ]
     },
     "execution_count": 28,
     "metadata": {},
     "output_type": "execute_result"
    }
   ],
   "source": [
    "# model building\n",
    "from sklearn.ensemble import GradientBoostingRegressor\n",
    "regressor=GradientBoostingRegressor()\n",
    "regressor.fit(X_train_conc,y_train)\n",
    "# prediction\n",
    "y_test_pred=regressor.predict(X_test_conc)\n",
    "# evaluation\n",
    "from sklearn import metrics\n",
    "metrics.mean_absolute_error(y_test,y_test_pred)"
   ]
  },
  {
   "cell_type": "markdown",
   "id": "b4f85af2",
   "metadata": {},
   "source": [
    "# Conclusion:\n",
    "- <font size=\"4\"> __GradientBoostingRegressor__ </font> predicting more accuratly with least <font size=\"4\"> __mean absolute error :1446__ </font> than any other model which we built, so we can say that this ths best fit model for prediction.\n",
    "    \n",
    "  "
   ]
  },
  {
   "cell_type": "code",
   "execution_count": 70,
   "id": "d9291241",
   "metadata": {},
   "outputs": [
    {
     "data": {
      "image/png": "[encoded data removed]",
      "text/plain": [
       "<Figure size 432x288 with 1 Axes>"
      ]
     },
     "metadata": {
      "needs_background": "light"
     },
     "output_type": "display_data"
    }
   ],
   "source": [
    "sns.histplot(y_test,color=\"green\",kde=True);\n",
    "sns.histplot(y_test_pred,color=\"red\",kde=True);"
   ]
  },
  {
   "cell_type": "code",
   "execution_count": 72,
   "id": "13e45308",
   "metadata": {},
   "outputs": [
    {
     "data": {
      "image/png": "[encoded data removed]",
      "text/plain": [
       "<Figure size 432x288 with 1 Axes>"
      ]
     },
     "metadata": {
      "needs_background": "light"
     },
     "output_type": "display_data"
    }
   ],
   "source": [
    "sns.distplot(y_test,color=\"green\",kde=True);\n",
    "sns.distplot(y_test_pred,color=\"red\",kde=True);"
   ]
  }
 ],
 "metadata": {
  "kernelspec": {
   "display_name": "Python 3 (ipykernel)",
   "language": "python",
   "name": "python3"
  },
  "language_info": {
   "codemirror_mode": {
    "name": "ipython",
    "version": 3
   },
   "file_extension": ".py",
   "mimetype": "text/x-python",
   "name": "python",
   "nbconvert_exporter": "python",
   "pygments_lexer": "ipython3",
   "version": "3.9.12"
  }
 },
 "nbformat": 4,
 "nbformat_minor": 5
}
